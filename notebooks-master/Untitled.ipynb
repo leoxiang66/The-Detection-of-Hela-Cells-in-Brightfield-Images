{
 "cells": [
  {
   "cell_type": "markdown",
   "id": "ranging-briefing",
   "metadata": {},
   "source": [
    "# Data Augmentation\n",
    "\n",
    "- 将`source_img`中的图片进行数据增强，输出存放于`da`文件夹"
   ]
  },
  {
   "cell_type": "code",
   "execution_count": 1,
   "id": "dress-meaning",
   "metadata": {},
   "outputs": [],
   "source": [
    "# import packages\n",
    "from keras.preprocessing.image import ImageDataGenerator, array_to_img, img_to_array, load_img"
   ]
  },
  {
   "cell_type": "code",
   "execution_count": 2,
   "id": "collect-camping",
   "metadata": {},
   "outputs": [],
   "source": [
    "def img_data_augmentation(count,prefix,num_img,suffix):\n",
    "    datagen = ImageDataGenerator(\n",
    "        rotation_range=0.2,\n",
    "        width_shift_range=0.2,\n",
    "        height_shift_range=0.2,\n",
    "        shear_range=0.2,\n",
    "        zoom_range=0.2,\n",
    "        horizontal_flip=True,\n",
    "        fill_mode='nearest'\n",
    "    )\n",
    "    \n",
    "    for i in range(num_img):\n",
    "        img = load_img(\n",
    "            f'./source_img/{prefix}{i}.{suffix}')\n",
    "        x = img_to_array(img)  # this is a Numpy array \n",
    "        x = x.reshape((1,) + x.shape)  \n",
    "\n",
    "        # the .flow() command below generates batches of randomly transformed images\n",
    "        # and saves the results to the `da/` directory\n",
    "\n",
    "        i = 1\n",
    "        for batch in datagen.flow(x, batch_size=1, save_to_dir='./da/', save_prefix='lena',\n",
    "                                  save_format='jpg'):\n",
    "            i += 1\n",
    "            if i > count:\n",
    "                break  # otherwise the generator would loop indefinitely"
   ]
  },
  {
   "cell_type": "markdown",
   "id": "structured-terror",
   "metadata": {},
   "source": [
    "- `count`: 每张图片进行数据增强后的输出图片数量\n",
    "- `prefix`: 图片名的前缀，如`lena0.png`的 prefix 为`lena`\n",
    "- `num_img`: source images 的数量\n",
    "- `suffix`: `png` or `jpg`"
   ]
  }
 ],
 "metadata": {
  "kernelspec": {
   "display_name": "Python 3",
   "language": "python",
   "name": "python3"
  },
  "language_info": {
   "codemirror_mode": {
    "name": "ipython",
    "version": 3
   },
   "file_extension": ".py",
   "mimetype": "text/x-python",
   "name": "python",
   "nbconvert_exporter": "python",
   "pygments_lexer": "ipython3",
   "version": "3.8.5"
  }
 },
 "nbformat": 4,
 "nbformat_minor": 5
}
