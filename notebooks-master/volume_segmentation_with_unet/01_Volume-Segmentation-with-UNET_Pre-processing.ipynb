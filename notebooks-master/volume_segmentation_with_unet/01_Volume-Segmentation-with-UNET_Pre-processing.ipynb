{
 "cells": [
  {
   "cell_type": "code",
   "execution_count": 1,
   "metadata": {},
   "outputs": [],
   "source": [
    "# Youtube: https://www.youtube.com/watch?v=NJNvXEYa_gM"
   ]
  },
  {
   "cell_type": "code",
   "execution_count": 1,
   "metadata": {},
   "outputs": [
    {
     "ename": "ModuleNotFoundError",
     "evalue": "No module named 'nibabel'",
     "output_type": "error",
     "traceback": [
      "\u001b[0;31m---------------------------------------------------------------------------\u001b[0m",
      "\u001b[0;31mModuleNotFoundError\u001b[0m                       Traceback (most recent call last)",
      "\u001b[0;32m<ipython-input-1-2330dcbe422e>\u001b[0m in \u001b[0;36m<module>\u001b[0;34m\u001b[0m\n\u001b[1;32m      1\u001b[0m \u001b[0;32mimport\u001b[0m \u001b[0mos\u001b[0m\u001b[0;34m,\u001b[0m \u001b[0mglob\u001b[0m\u001b[0;34m\u001b[0m\u001b[0;34m\u001b[0m\u001b[0m\n\u001b[0;32m----> 2\u001b[0;31m \u001b[0;32mimport\u001b[0m \u001b[0mnibabel\u001b[0m \u001b[0;32mas\u001b[0m \u001b[0mnib\u001b[0m\u001b[0;34m\u001b[0m\u001b[0;34m\u001b[0m\u001b[0m\n\u001b[0m\u001b[1;32m      3\u001b[0m \u001b[0;32mimport\u001b[0m \u001b[0mnumpy\u001b[0m \u001b[0;32mas\u001b[0m \u001b[0mnp\u001b[0m\u001b[0;34m\u001b[0m\u001b[0;34m\u001b[0m\u001b[0m\n\u001b[1;32m      4\u001b[0m \u001b[0;32mimport\u001b[0m \u001b[0mmatplotlib\u001b[0m\u001b[0;34m.\u001b[0m\u001b[0mpyplot\u001b[0m \u001b[0;32mas\u001b[0m \u001b[0mplt\u001b[0m\u001b[0;34m\u001b[0m\u001b[0;34m\u001b[0m\u001b[0m\n\u001b[1;32m      5\u001b[0m \u001b[0;32mimport\u001b[0m \u001b[0mcv2\u001b[0m\u001b[0;34m\u001b[0m\u001b[0;34m\u001b[0m\u001b[0m\n",
      "\u001b[0;31mModuleNotFoundError\u001b[0m: No module named 'nibabel'"
     ]
    }
   ],
   "source": [
    "import os, glob\n",
    "import nibabel as nib\n",
    "import numpy as np\n",
    "import matplotlib.pyplot as plt\n",
    "import cv2"
   ]
  },
  {
   "cell_type": "code",
   "execution_count": 2,
   "metadata": {},
   "outputs": [],
   "source": [
    "# CONSTANTS!!!\n",
    "\n",
    "# STEP 1 - Load and visualize data\n",
    "dataInputPath = 'data/volumes/'\n",
    "imagePathInput = os.path.join(dataInputPath, 'img/')\n",
    "maskPathInput = os.path.join(dataInputPath, 'mask/')\n",
    "\n",
    "dataOutputPath = 'data/slices/'\n",
    "imageSliceOutput = os.path.join(dataOutputPath, 'img/')\n",
    "maskSliceOutput = os.path.join(dataOutputPath, 'mask/')\n",
    "\n",
    "# STEP 2 - Image normalization\n",
    "HOUNSFIELD_MIN = -1000\n",
    "HOUNSFIELD_MAX = 2000\n",
    "HOUNSFIELD_RANGE = HOUNSFIELD_MAX - HOUNSFIELD_MIN\n",
    "\n",
    "# STEP 3 - Slicing and saving\n",
    "SLICE_X = True\n",
    "SLICE_Y = True\n",
    "SLICE_Z = False\n",
    "\n",
    "SLICE_DECIMATE_IDENTIFIER = 3"
   ]
  },
  {
   "cell_type": "code",
   "execution_count": 3,
   "metadata": {},
   "outputs": [
    {
     "ename": "NameError",
     "evalue": "name 'nib' is not defined",
     "output_type": "error",
     "traceback": [
      "\u001b[0;31m---------------------------------------------------------------------------\u001b[0m",
      "\u001b[0;31mNameError\u001b[0m                                 Traceback (most recent call last)",
      "\u001b[0;32m<ipython-input-3-f2c1b1e6a6d5>\u001b[0m in \u001b[0;36m<module>\u001b[0;34m\u001b[0m\n\u001b[1;32m      1\u001b[0m \u001b[0;31m# Load image and see max min Hounsfield units\u001b[0m\u001b[0;34m\u001b[0m\u001b[0;34m\u001b[0m\u001b[0;34m\u001b[0m\u001b[0m\n\u001b[1;32m      2\u001b[0m \u001b[0mimgPath\u001b[0m \u001b[0;34m=\u001b[0m \u001b[0mos\u001b[0m\u001b[0;34m.\u001b[0m\u001b[0mpath\u001b[0m\u001b[0;34m.\u001b[0m\u001b[0mjoin\u001b[0m\u001b[0;34m(\u001b[0m\u001b[0mimagePathInput\u001b[0m\u001b[0;34m,\u001b[0m \u001b[0;34m'tooth1.nii'\u001b[0m\u001b[0;34m)\u001b[0m\u001b[0;34m\u001b[0m\u001b[0;34m\u001b[0m\u001b[0m\n\u001b[0;32m----> 3\u001b[0;31m \u001b[0mimg\u001b[0m \u001b[0;34m=\u001b[0m \u001b[0mnib\u001b[0m\u001b[0;34m.\u001b[0m\u001b[0mload\u001b[0m\u001b[0;34m(\u001b[0m\u001b[0mimgPath\u001b[0m\u001b[0;34m)\u001b[0m\u001b[0;34m.\u001b[0m\u001b[0mget_fdata\u001b[0m\u001b[0;34m(\u001b[0m\u001b[0;34m)\u001b[0m\u001b[0;34m\u001b[0m\u001b[0;34m\u001b[0m\u001b[0m\n\u001b[0m\u001b[1;32m      4\u001b[0m \u001b[0mnp\u001b[0m\u001b[0;34m.\u001b[0m\u001b[0mmin\u001b[0m\u001b[0;34m(\u001b[0m\u001b[0mimg\u001b[0m\u001b[0;34m)\u001b[0m\u001b[0;34m,\u001b[0m \u001b[0mnp\u001b[0m\u001b[0;34m.\u001b[0m\u001b[0mmax\u001b[0m\u001b[0;34m(\u001b[0m\u001b[0mimg\u001b[0m\u001b[0;34m)\u001b[0m\u001b[0;34m,\u001b[0m \u001b[0mimg\u001b[0m\u001b[0;34m.\u001b[0m\u001b[0mshape\u001b[0m\u001b[0;34m,\u001b[0m \u001b[0mtype\u001b[0m\u001b[0;34m(\u001b[0m\u001b[0mimg\u001b[0m\u001b[0;34m)\u001b[0m\u001b[0;34m\u001b[0m\u001b[0;34m\u001b[0m\u001b[0m\n",
      "\u001b[0;31mNameError\u001b[0m: name 'nib' is not defined"
     ]
    }
   ],
   "source": [
    "# Load image and see max min Hounsfield units\n",
    "imgPath = os.path.join(imagePathInput, 'tooth1.nii')\n",
    "img = nib.load(imgPath).get_fdata()\n",
    "np.min(img), np.max(img), img.shape, type(img)"
   ]
  },
  {
   "cell_type": "code",
   "execution_count": 5,
   "metadata": {},
   "outputs": [
    {
     "data": {
      "text/plain": [
       "(0.0, 1.0, (45, 45, 90), numpy.memmap)"
      ]
     },
     "execution_count": 5,
     "metadata": {},
     "output_type": "execute_result"
    }
   ],
   "source": [
    "# Load image mask and see max min Hounsfield units\n",
    "maskPath = os.path.join(maskPathInput, 'tooth1.nii')\n",
    "mask = nib.load(maskPath).get_fdata()\n",
    "np.min(mask), np.max(mask), mask.shape, type(mask)"
   ]
  },
  {
   "cell_type": "code",
   "execution_count": 6,
   "metadata": {},
   "outputs": [
    {
     "data": {
      "image/png": "[encoded data removed]",
      "text/plain": [
       "<Figure size 432x288 with 1 Axes>"
      ]
     },
     "metadata": {
      "needs_background": "light"
     },
     "output_type": "display_data"
    }
   ],
   "source": [
    "# Show image slice\n",
    "imgSlice = mask[20,:,:]\n",
    "plt.imshow(imgSlice, cmap='gray')\n",
    "plt.show()"
   ]
  },
  {
   "cell_type": "code",
   "execution_count": 7,
   "metadata": {},
   "outputs": [
    {
     "data": {
      "text/plain": [
       "(0.022333333333333334, 1.0, (45, 45, 90), numpy.ndarray)"
      ]
     },
     "execution_count": 7,
     "metadata": {},
     "output_type": "execute_result"
    }
   ],
   "source": [
    "# Normalize image\n",
    "def normalizeImageIntensityRange(img):\n",
    "    img[img < HOUNSFIELD_MIN] = HOUNSFIELD_MIN\n",
    "    img[img > HOUNSFIELD_MAX] = HOUNSFIELD_MAX\n",
    "    return (img - HOUNSFIELD_MIN) / HOUNSFIELD_RANGE\n",
    "\n",
    "nImg = normalizeImageIntensityRange(img)\n",
    "np.min(nImg), np.max(nImg), nImg.shape, type(nImg)"
   ]
  },
  {
   "cell_type": "code",
   "execution_count": 8,
   "metadata": {},
   "outputs": [
    {
     "data": {
      "text/plain": [
       "memmap([[[0., 0., 0., ..., 0., 0., 0.],\n",
       "         [0., 0., 0., ..., 0., 0., 0.],\n",
       "         [0., 0., 0., ..., 0., 0., 0.],\n",
       "         ...,\n",
       "         [0., 0., 0., ..., 0., 0., 0.],\n",
       "         [0., 0., 0., ..., 0., 0., 0.],\n",
       "         [0., 0., 0., ..., 0., 0., 0.]],\n",
       "\n",
       "        [[0., 0., 0., ..., 0., 0., 0.],\n",
       "         [0., 0., 0., ..., 0., 0., 0.],\n",
       "         [0., 0., 0., ..., 0., 0., 0.],\n",
       "         ...,\n",
       "         [0., 0., 0., ..., 0., 0., 0.],\n",
       "         [0., 0., 0., ..., 0., 0., 0.],\n",
       "         [0., 0., 0., ..., 0., 0., 0.]],\n",
       "\n",
       "        [[0., 0., 0., ..., 0., 0., 0.],\n",
       "         [0., 0., 0., ..., 0., 0., 0.],\n",
       "         [0., 0., 0., ..., 0., 0., 0.],\n",
       "         ...,\n",
       "         [0., 0., 0., ..., 0., 0., 0.],\n",
       "         [0., 0., 0., ..., 0., 0., 0.],\n",
       "         [0., 0., 0., ..., 0., 0., 0.]],\n",
       "\n",
       "        ...,\n",
       "\n",
       "        [[0., 0., 0., ..., 0., 0., 0.],\n",
       "         [0., 0., 0., ..., 0., 0., 0.],\n",
       "         [0., 0., 0., ..., 0., 0., 0.],\n",
       "         ...,\n",
       "         [0., 0., 0., ..., 0., 0., 0.],\n",
       "         [0., 0., 0., ..., 0., 0., 0.],\n",
       "         [0., 0., 0., ..., 0., 0., 0.]],\n",
       "\n",
       "        [[0., 0., 0., ..., 0., 0., 0.],\n",
       "         [0., 0., 0., ..., 0., 0., 0.],\n",
       "         [0., 0., 0., ..., 0., 0., 0.],\n",
       "         ...,\n",
       "         [0., 0., 0., ..., 0., 0., 0.],\n",
       "         [0., 0., 0., ..., 0., 0., 0.],\n",
       "         [0., 0., 0., ..., 0., 0., 0.]],\n",
       "\n",
       "        [[0., 0., 0., ..., 0., 0., 0.],\n",
       "         [0., 0., 0., ..., 0., 0., 0.],\n",
       "         [0., 0., 0., ..., 0., 0., 0.],\n",
       "         ...,\n",
       "         [0., 0., 0., ..., 0., 0., 0.],\n",
       "         [0., 0., 0., ..., 0., 0., 0.],\n",
       "         [0., 0., 0., ..., 0., 0., 0.]]])"
      ]
     },
     "execution_count": 8,
     "metadata": {},
     "output_type": "execute_result"
    }
   ],
   "source": [
    "# Read image or mask volume\n",
    "def readImageVolume(imgPath, normalize=False):\n",
    "    img = nib.load(imgPath).get_fdata()\n",
    "    if normalize:\n",
    "        return normalizeImageIntensityRange(img)\n",
    "    else:\n",
    "        return img\n",
    "    \n",
    "readImageVolume(imgPath, normalize=True)\n",
    "readImageVolume(maskPath, normalize=False)"
   ]
  },
  {
   "cell_type": "code",
   "execution_count": 9,
   "metadata": {},
   "outputs": [
    {
     "name": "stdout",
     "output_type": "stream",
     "text": [
      "[+] Slice saved: data/slices/mask/test.png\r"
     ]
    }
   ],
   "source": [
    "# Save volume slice to file\n",
    "def saveSlice(img, fname, path):\n",
    "    img = np.uint8(img * 255)\n",
    "    fout = os.path.join(path, f'{fname}.png')\n",
    "    cv2.imwrite(fout, img)\n",
    "    print(f'[+] Slice saved: {fout}', end='\\r')\n",
    "    \n",
    "saveSlice(nImg[20,:,:], 'test', imageSliceOutput)\n",
    "saveSlice(mask[20,:,:], 'test', maskSliceOutput)"
   ]
  },
  {
   "cell_type": "code",
   "execution_count": 10,
   "metadata": {},
   "outputs": [],
   "source": [
    "# Slice image in all directions and save\n",
    "def sliceAndSaveVolumeImage(vol, fname, path):\n",
    "    (dimx, dimy, dimz) = vol.shape\n",
    "    print(dimx, dimy, dimz)\n",
    "    cnt = 0\n",
    "    if SLICE_X:\n",
    "        cnt += dimx\n",
    "        print('Slicing X: ')\n",
    "        for i in range(dimx):\n",
    "            saveSlice(vol[i,:,:], fname+f'-slice{str(i).zfill(SLICE_DECIMATE_IDENTIFIER)}_x', path)\n",
    "            \n",
    "    if SLICE_Y:\n",
    "        cnt += dimy\n",
    "        print('Slicing Y: ')\n",
    "        for i in range(dimy):\n",
    "            saveSlice(vol[:,i,:], fname+f'-slice{str(i).zfill(SLICE_DECIMATE_IDENTIFIER)}_y', path)\n",
    "            \n",
    "    if SLICE_Z:\n",
    "        cnt += dimz\n",
    "        print('Slicing Z: ')\n",
    "        for i in range(dimz):\n",
    "            saveSlice(vol[:,:,i], fname+f'-slice{str(i).zfill(SLICE_DECIMATE_IDENTIFIER)}_z', path)\n",
    "    return cnt"
   ]
  },
  {
   "cell_type": "code",
   "execution_count": 11,
   "metadata": {},
   "outputs": [
    {
     "name": "stdout",
     "output_type": "stream",
     "text": [
      "data/volumes/img/tooth1.nii (45, 45, 90) 180 0.022333333333333334 1.0\n",
      "Slicing X: \n",
      "Slicing Y: aved: data/slices/img/tooth0-slice044_x.png\n",
      "[+] Slice saved: data/slices/img/tooth0-slice044_y.png\n",
      "data/volumes/img/tooth1.nii, 90 slices created \n",
      "\n",
      "data/volumes/img/tooth2.nii (45, 45, 90) 180 0.0 0.9263333333333333\n",
      "Slicing X: \n",
      "Slicing Y: aved: data/slices/img/tooth1-slice044_x.png\n",
      "[+] Slice saved: data/slices/img/tooth1-slice044_y.png\n",
      "data/volumes/img/tooth2.nii, 90 slices created \n",
      "\n",
      "data/volumes/img/tooth3.nii (46, 46, 92) 184 0.0 0.9866666666666667\n",
      "Slicing X: \n",
      "Slicing Y: aved: data/slices/img/tooth2-slice045_x.png\n",
      "[+] Slice saved: data/slices/img/tooth2-slice045_y.png\n",
      "data/volumes/img/tooth3.nii, 92 slices created \n",
      "\n",
      "data/volumes/img/tooth4.nii (44, 44, 88) 176 0.10566666666666667 1.0\n",
      "Slicing X: \n",
      "Slicing Y: aved: data/slices/img/tooth3-slice043_x.png\n",
      "[+] Slice saved: data/slices/img/tooth3-slice043_y.png\n",
      "data/volumes/img/tooth4.nii, 88 slices created \n",
      "\n",
      "data/volumes/img/tooth5.nii (50, 50, 100) 200 0.013666666666666667 1.0\n",
      "Slicing X: \n",
      "Slicing Y: aved: data/slices/img/tooth4-slice049_x.png\n",
      "[+] Slice saved: data/slices/img/tooth4-slice049_y.png\n",
      "data/volumes/img/tooth5.nii, 100 slices created \n",
      "\n"
     ]
    }
   ],
   "source": [
    "# Read and process image volumes\n",
    "for index, filename in enumerate(sorted(glob.iglob(imagePathInput+'*.nii'))):\n",
    "    img = readImageVolume(filename, True)\n",
    "    print(filename, img.shape, np.sum(img.shape), np.min(img), np.max(img))\n",
    "    numOfSlices = sliceAndSaveVolumeImage(img, 'tooth'+str(index), imageSliceOutput)\n",
    "    print(f'\\n{filename}, {numOfSlices} slices created \\n')"
   ]
  },
  {
   "cell_type": "code",
   "execution_count": 12,
   "metadata": {},
   "outputs": [
    {
     "name": "stdout",
     "output_type": "stream",
     "text": [
      "data/volumes/mask/tooth1.nii (45, 45, 90) 180 0.0 1.0\n",
      "Slicing X: \n",
      "Slicing Y: aved: data/slices/mask/tooth0-slice044_x.png\n",
      "[+] Slice saved: data/slices/mask/tooth0-slice044_y.png\n",
      "data/volumes/mask/tooth1.nii, 90 slices created \n",
      "\n",
      "data/volumes/mask/tooth2.nii (45, 45, 90) 180 0.0 1.0\n",
      "Slicing X: \n",
      "Slicing Y: aved: data/slices/mask/tooth1-slice044_x.png\n",
      "[+] Slice saved: data/slices/mask/tooth1-slice044_y.png\n",
      "data/volumes/mask/tooth2.nii, 90 slices created \n",
      "\n",
      "data/volumes/mask/tooth3.nii (46, 46, 92) 184 0.0 1.0\n",
      "Slicing X: \n",
      "Slicing Y: aved: data/slices/mask/tooth2-slice045_x.png\n",
      "[+] Slice saved: data/slices/mask/tooth2-slice045_y.png\n",
      "data/volumes/mask/tooth3.nii, 92 slices created \n",
      "\n",
      "data/volumes/mask/tooth4.nii (44, 44, 88) 176 0.0 1.0\n",
      "Slicing X: \n",
      "Slicing Y: aved: data/slices/mask/tooth3-slice043_x.png\n",
      "[+] Slice saved: data/slices/mask/tooth3-slice043_y.png\n",
      "data/volumes/mask/tooth4.nii, 88 slices created \n",
      "\n",
      "data/volumes/mask/tooth5.nii (50, 50, 100) 200 0.0 1.0\n",
      "Slicing X: \n",
      "Slicing Y: aved: data/slices/mask/tooth4-slice049_x.png\n",
      "[+] Slice saved: data/slices/mask/tooth4-slice049_y.png\n",
      "data/volumes/mask/tooth5.nii, 100 slices created \n",
      "\n"
     ]
    }
   ],
   "source": [
    "# Read and process image mask volumes\n",
    "for index, filename in enumerate(sorted(glob.iglob(maskPathInput+'*.nii'))):\n",
    "    img = readImageVolume(filename, False)\n",
    "    print(filename, img.shape, np.sum(img.shape), np.min(img), np.max(img))\n",
    "    numOfSlices = sliceAndSaveVolumeImage(img, 'tooth'+str(index), maskSliceOutput)\n",
    "    print(f'\\n{filename}, {numOfSlices} slices created \\n')"
   ]
  },
  {
   "cell_type": "code",
   "execution_count": 13,
   "metadata": {},
   "outputs": [],
   "source": [
    "# https://github.com/madsendennis/notebooks"
   ]
  }
 ],
 "metadata": {
  "kernelspec": {
   "display_name": "Python 3",
   "language": "python",
   "name": "python3"
  },
  "language_info": {
   "codemirror_mode": {
    "name": "ipython",
    "version": 3
   },
   "file_extension": ".py",
   "mimetype": "text/x-python",
   "name": "python",
   "nbconvert_exporter": "python",
   "pygments_lexer": "ipython3",
   "version": "3.8.5"
  }
 },
 "nbformat": 4,
 "nbformat_minor": 4
}
