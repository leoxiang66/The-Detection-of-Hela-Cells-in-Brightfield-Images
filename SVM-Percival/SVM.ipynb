{
 "cells": [
  {
   "cell_type": "markdown",
   "metadata": {},
   "source": [
    "<div class=\"alert alert-block alert-info\">\n",
    "Visit the <a href=\"https://github.com/engs1258/biomedical-image-analysis-notebooks/wiki\">wiki</a> pages to find some additional documentation and instructions on how view an interactive verson of these notebooks using binder.</div>\n",
    "\n",
    "---\n",
    "\n"
   ]
  },
  {
   "cell_type": "code",
   "execution_count": 47,
   "metadata": {},
   "outputs": [],
   "source": [
    "import math\n",
    "import numpy as np\n",
    "import matplotlib.pyplot as plt\n",
    "\n",
    "import skimage\n",
    "from skimage import io, measure, exposure\n",
    "from skimage.color import rgba2rgb, rgb2gray\n",
    "from skimage.feature import greycomatrix, greycoprops\n",
    "\n",
    "from sklearn.utils import shuffle\n",
    "from sklearn.svm import SVC\n",
    "from sklearn.decomposition import PCA\n",
    "from sklearn.metrics import classification_report\n",
    "from sklearn.svm import SVC\n",
    "import matplotlib.pyplot as plt\n",
    "from sklearn.model_selection import train_test_split\n",
    "from sklearn.metrics import classification_report,confusion_matrix\n",
    "from sklearn.model_selection import GridSearchCV\n",
    "from sklearn.model_selection import cross_val_score\n",
    "\n",
    "import os\n",
    "import csv\n",
    "import random\n",
    "\n",
    "%matplotlib inline"
   ]
  },
  {
   "cell_type": "markdown",
   "metadata": {},
   "source": [
    "### Step 1: load the csv file that contain the generated features "
   ]
  },
  {
   "cell_type": "code",
   "execution_count": 48,
   "metadata": {},
   "outputs": [],
   "source": [
    "features = []\n",
    "labels = []\n",
    "\n",
    "with open('border.csv', newline='') as csvfile:\n",
    "    stored_features = csv.reader(csvfile, delimiter=',', quotechar='|')\n",
    "    for row in stored_features:\n",
    "        filename = row[0]\n",
    "        class_label = row[1]\n",
    "        v = np.array(row[2:len(row)], dtype=np.float32)\n",
    "        f = [filename, class_label, v]\n",
    "        features.append(f)\n",
    "        labels.append(class_label)"
   ]
  },
  {
   "cell_type": "code",
   "execution_count": 49,
   "metadata": {},
   "outputs": [],
   "source": [
    "with open('Center.csv', newline='') as csvfile:\n",
    "    stored_features = csv.reader(csvfile, delimiter=',', quotechar='|')\n",
    "    for row in stored_features:\n",
    "        filename = row[0]\n",
    "        class_label = row[1]\n",
    "        v = np.array(row[2:len(row)], dtype=np.float32)\n",
    "        f = [filename, class_label, v]\n",
    "        features.append(f)\n",
    "        labels.append(class_label)"
   ]
  },
  {
   "cell_type": "code",
   "execution_count": 50,
   "metadata": {},
   "outputs": [],
   "source": [
    "with open('Blank.csv', newline='') as csvfile:\n",
    "    stored_features = csv.reader(csvfile, delimiter=',', quotechar='|')\n",
    "    for row in stored_features:\n",
    "        filename = row[0]\n",
    "        class_label = row[1]\n",
    "        v = np.array(row[2:len(row)], dtype=np.float32)\n",
    "        f = [filename, class_label, v]\n",
    "        features.append(f)\n",
    "        labels.append(class_label)\n"
   ]
  },
  {
   "cell_type": "markdown",
   "metadata": {},
   "source": [
    "### Step 2: Split the data into training and testing"
   ]
  },
  {
   "cell_type": "code",
   "execution_count": 51,
   "metadata": {
    "scrolled": true
   },
   "outputs": [],
   "source": [
    "feature_length = len(features[0][2])\n",
    "features, labels = shuffle(features, labels, random_state=0)"
   ]
  },
  {
   "cell_type": "code",
   "execution_count": 52,
   "metadata": {},
   "outputs": [],
   "source": [
    "N_train = 60\n",
    "features_train = features[0:N_train]\n",
    "features_test = features[N_train:len(features)]\n",
    "\n",
    "labels_train = labels[0:N_train]\n",
    "labels_test = labels[N_train:len(features)]"
   ]
  },
  {
   "cell_type": "code",
   "execution_count": 53,
   "metadata": {},
   "outputs": [],
   "source": [
    "data_train = np.zeros((len(features_train), feature_length))\n",
    "data_test  = np.zeros((len(features_test), feature_length))"
   ]
  },
  {
   "cell_type": "code",
   "execution_count": 54,
   "metadata": {},
   "outputs": [],
   "source": [
    "for i in range(0, len(features_train)):\n",
    "    data_train[i, :] = features_train[i][2]\n",
    "    \n",
    "for i in range(0, len(features_test)):\n",
    "    data_test[i, :] = features_test[i][2]"
   ]
  },
  {
   "cell_type": "markdown",
   "metadata": {},
   "source": [
    "### Step 3: Set up the classifier and train it"
   ]
  },
  {
   "cell_type": "code",
   "execution_count": 55,
   "metadata": {},
   "outputs": [],
   "source": [
    "clf = SVC(random_state=0, max_iter=500,kernel = \"rbf\")\n",
    "#\"linear\",\"poly\",\"rbf\",\"sigmoid\""
   ]
  },
  {
   "cell_type": "code",
   "execution_count": 56,
   "metadata": {},
   "outputs": [
    {
     "data": {
      "text/plain": [
       "SVC(max_iter=500, random_state=0)"
      ]
     },
     "execution_count": 56,
     "metadata": {},
     "output_type": "execute_result"
    }
   ],
   "source": [
    "clf.fit(data_train, np.asarray(labels_train))"
   ]
  },
  {
   "cell_type": "code",
   "execution_count": 57,
   "metadata": {},
   "outputs": [],
   "source": [
    "prediction = clf.predict(data_test)"
   ]
  },
  {
   "cell_type": "code",
   "execution_count": 58,
   "metadata": {
    "scrolled": true
   },
   "outputs": [
    {
     "name": "stdout",
     "output_type": "stream",
     "text": [
      "              precision    recall  f1-score   support\n",
      "\n",
      "           0       0.46      0.26      0.33       481\n",
      "           1       0.00      0.00      0.00       486\n",
      "           2       0.40      0.98      0.56       472\n",
      "\n",
      "    accuracy                           0.41      1439\n",
      "   macro avg       0.29      0.41      0.30      1439\n",
      "weighted avg       0.28      0.41      0.30      1439\n",
      "\n"
     ]
    },
    {
     "name": "stderr",
     "output_type": "stream",
     "text": [
      "/Users/perciva1/opt/anaconda3/lib/python3.8/site-packages/sklearn/metrics/_classification.py:1221: UndefinedMetricWarning: Precision and F-score are ill-defined and being set to 0.0 in labels with no predicted samples. Use `zero_division` parameter to control this behavior.\n",
      "  _warn_prf(average, modifier, msg_start, len(result))\n"
     ]
    }
   ],
   "source": [
    "print(classification_report(labels_test, prediction))"
   ]
  },
  {
   "cell_type": "code",
   "execution_count": 59,
   "metadata": {},
   "outputs": [
    {
     "name": "stdout",
     "output_type": "stream",
     "text": [
      "              precision    recall  f1-score   support\n",
      "\n",
      "           0       0.46      0.26      0.33       481\n",
      "           1       0.00      0.00      0.00       486\n",
      "           2       0.40      0.98      0.56       472\n",
      "\n",
      "    accuracy                           0.41      1439\n",
      "   macro avg       0.29      0.41      0.30      1439\n",
      "weighted avg       0.28      0.41      0.30      1439\n",
      "\n",
      "train_dataset： 0.55\n",
      "test_dataset： 0.4086170952050035\n",
      "[[126   0 355]\n",
      " [137   0 349]\n",
      " [ 10   0 462]]\n"
     ]
    }
   ],
   "source": [
    "print(classification_report(labels_test,prediction))\n",
    "print(\"train_dataset：\", clf.score(data_train, labels_train))\n",
    "print(\"test_dataset：\", clf.score(data_test, labels_test))\n",
    "confusion_matrix = confusion_matrix(labels_test,prediction)\n",
    "print(confusion_matrix)"
   ]
  },
  {
   "cell_type": "code",
   "execution_count": 60,
   "metadata": {},
   "outputs": [
    {
     "data": {
      "image/png": "[encoded data removed]",
      "text/plain": [
       "<Figure size 432x288 with 2 Axes>"
      ]
     },
     "metadata": {
      "needs_background": "light"
     },
     "output_type": "display_data"
    }
   ],
   "source": [
    "classes = ['0','1','2']\n",
    "confusion_matrix = np.array(confusion_matrix,dtype=int)\n",
    "\n",
    "plt.imshow(confusion_matrix, interpolation='nearest', cmap=plt.cm.cool)  \n",
    "plt.title('confusion_matrix')\n",
    "plt.colorbar()\n",
    "tick_marks = np.arange(len(classes))\n",
    "plt.xticks(tick_marks, classes)\n",
    "plt.yticks(tick_marks, classes)\n",
    "\n",
    "thresh = confusion_matrix.max() / 2.\n",
    "\n",
    "iters = np.reshape([[[i,j] for j in range(3)] for i in range(3)],(confusion_matrix.size,2))\n",
    "for i, j in iters:\n",
    "    plt.text(j, i, format(confusion_matrix[i, j])) \n",
    "\n",
    "plt.ylim(len(confusion_matrix) - 0.5,-0.5)\n",
    "plt.ylabel('Real label')\n",
    "plt.xlabel('Prediction')\n",
    "plt.tight_layout()\n",
    "plt.show()"
   ]
  },
  {
   "cell_type": "code",
   "execution_count": null,
   "metadata": {},
   "outputs": [],
   "source": []
  },
  {
   "cell_type": "code",
   "execution_count": null,
   "metadata": {},
   "outputs": [],
   "source": []
  }
 ],
 "metadata": {
  "kernelspec": {
   "display_name": "Python 3",
   "language": "python",
   "name": "python3"
  },
  "language_info": {
   "codemirror_mode": {
    "name": "ipython",
    "version": 3
   },
   "file_extension": ".py",
   "mimetype": "text/x-python",
   "name": "python",
   "nbconvert_exporter": "python",
   "pygments_lexer": "ipython3",
   "version": "3.8.5"
  }
 },
 "nbformat": 4,
 "nbformat_minor": 4
}
