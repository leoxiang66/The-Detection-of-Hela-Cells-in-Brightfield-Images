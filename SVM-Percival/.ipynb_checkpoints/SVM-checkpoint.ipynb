{
 "cells": [
  {
   "cell_type": "markdown",
   "metadata": {},
   "source": [
    "<div class=\"alert alert-block alert-info\">\n",
    "Visit the <a href=\"https://github.com/engs1258/biomedical-image-analysis-notebooks/wiki\">wiki</a> pages to find some additional documentation and instructions on how view an interactive verson of these notebooks using binder.</div>\n",
    "\n",
    "---\n",
    "\n"
   ]
  },
  {
   "cell_type": "code",
   "execution_count": 26,
   "metadata": {},
   "outputs": [],
   "source": [
    "import math\n",
    "import numpy as np\n",
    "import matplotlib.pyplot as plt\n",
    "\n",
    "\n",
    "from sklearn.utils import shuffle\n",
    "from sklearn.svm import SVC\n",
    "from sklearn.decomposition import PCA\n",
    "from sklearn.metrics import classification_report\n",
    "\n",
    "import os\n",
    "import csv\n",
    "import random\n",
    "\n",
    "%matplotlib inline"
   ]
  },
  {
   "cell_type": "markdown",
   "metadata": {},
   "source": [
    "### Step 1: load the csv file that contain the generated features "
   ]
  },
  {
   "cell_type": "code",
   "execution_count": 27,
   "metadata": {},
   "outputs": [],
   "source": [
    "features = []\n",
    "labels = []\n",
    "\n",
    "with open('border.csv', newline='') as csvfile:\n",
    "    stored_features = csv.reader(csvfile, delimiter=',', quotechar='|')\n",
    "    for row in stored_features:\n",
    "        filename = row[0]\n",
    "        class_label = row[1]\n",
    "        v = np.array(row[2:len(row)], dtype=np.float32)\n",
    "        f = [filename, class_label, v]\n",
    "        features.append(f)\n",
    "        labels.append(class_label)"
   ]
  },
  {
   "cell_type": "code",
   "execution_count": 28,
   "metadata": {},
   "outputs": [],
   "source": [
    "with open('Center.csv', newline='') as csvfile:\n",
    "    stored_features = csv.reader(csvfile, delimiter=',', quotechar='|')\n",
    "    for row in stored_features:\n",
    "        filename = row[0]\n",
    "        class_label = row[1]\n",
    "        v = np.array(row[2:len(row)], dtype=np.float32)\n",
    "        f = [filename, class_label, v]\n",
    "        features.append(f)\n",
    "        labels.append(class_label)"
   ]
  },
  {
   "cell_type": "code",
   "execution_count": 29,
   "metadata": {},
   "outputs": [],
   "source": [
    "with open('Blank.csv', newline='') as csvfile:\n",
    "    stored_features = csv.reader(csvfile, delimiter=',', quotechar='|')\n",
    "    for row in stored_features:\n",
    "        filename = row[0]\n",
    "        class_label = row[1]\n",
    "        v = np.array(row[2:len(row)], dtype=np.float32)\n",
    "        f = [filename, class_label, v]\n",
    "        features.append(f)\n",
    "        labels.append(class_label)\n"
   ]
  },
  {
   "cell_type": "markdown",
   "metadata": {},
   "source": [
    "### Step 2: Split the data into training and testing"
   ]
  },
  {
   "cell_type": "code",
   "execution_count": 30,
   "metadata": {
    "scrolled": true
   },
   "outputs": [],
   "source": [
    "feature_length = len(features[0][2])\n",
    "features, labels = shuffle(features, labels, random_state=0)"
   ]
  },
  {
   "cell_type": "code",
   "execution_count": 128,
   "metadata": {},
   "outputs": [],
   "source": [
    "N_train = 60\n",
    "features_train = features[0:N_train]\n",
    "features_test = features[N_train:len(features)]\n",
    "\n",
    "labels_train = labels[0:N_train]\n",
    "labels_test = labels[N_train:len(features)]"
   ]
  },
  {
   "cell_type": "code",
   "execution_count": 129,
   "metadata": {},
   "outputs": [],
   "source": [
    "data_train = np.zeros((len(features_train), feature_length))\n",
    "data_test  = np.zeros((len(features_test), feature_length))"
   ]
  },
  {
   "cell_type": "code",
   "execution_count": 130,
   "metadata": {},
   "outputs": [],
   "source": [
    "for i in range(0, len(features_train)):\n",
    "    data_train[i, :] = features_train[i][2]\n",
    "    \n",
    "for i in range(0, len(features_test)):\n",
    "    data_test[i, :] = features_test[i][2]"
   ]
  },
  {
   "cell_type": "markdown",
   "metadata": {},
   "source": [
    "### Step 3: Set up the classifier and train it"
   ]
  },
  {
   "cell_type": "code",
   "execution_count": 143,
   "metadata": {},
   "outputs": [],
   "source": [
    "clf = SVC(random_state=0, max_iter=500,kernel = \"poly\")\n",
    "#\"linear\",\"poly\",\"rbf\",\"sigmoid\""
   ]
  },
  {
   "cell_type": "code",
   "execution_count": 144,
   "metadata": {},
   "outputs": [
    {
     "data": {
      "text/plain": [
       "SVC(kernel='poly', max_iter=500, random_state=0)"
      ]
     },
     "execution_count": 144,
     "metadata": {},
     "output_type": "execute_result"
    }
   ],
   "source": [
    "clf.fit(data_train, np.asarray(labels_train))"
   ]
  },
  {
   "cell_type": "code",
   "execution_count": 145,
   "metadata": {},
   "outputs": [],
   "source": [
    "prediction = clf.predict(data_test)"
   ]
  },
  {
   "cell_type": "code",
   "execution_count": 146,
   "metadata": {},
   "outputs": [
    {
     "name": "stdout",
     "output_type": "stream",
     "text": [
      "              precision    recall  f1-score   support\n",
      "\n",
      "           0       0.56      1.00      0.71        10\n",
      "           1       1.00      0.40      0.57        10\n",
      "           2       1.00      0.88      0.93        16\n",
      "\n",
      "    accuracy                           0.78        36\n",
      "   macro avg       0.85      0.76      0.74        36\n",
      "weighted avg       0.88      0.78      0.77        36\n",
      "\n"
     ]
    }
   ],
   "source": [
    "print(classification_report(labels_test, prediction))"
   ]
  },
  {
   "cell_type": "code",
   "execution_count": null,
   "metadata": {},
   "outputs": [],
   "source": []
  },
  {
   "cell_type": "code",
   "execution_count": null,
   "metadata": {},
   "outputs": [],
   "source": []
  },
  {
   "cell_type": "code",
   "execution_count": null,
   "metadata": {},
   "outputs": [],
   "source": []
  }
 ],
 "metadata": {
  "kernelspec": {
   "display_name": "Python 3",
   "language": "python",
   "name": "python3"
  },
  "language_info": {
   "codemirror_mode": {
    "name": "ipython",
    "version": 3
   },
   "file_extension": ".py",
   "mimetype": "text/x-python",
   "name": "python",
   "nbconvert_exporter": "python",
   "pygments_lexer": "ipython3",
   "version": "3.8.5"
  }
 },
 "nbformat": 4,
 "nbformat_minor": 4
}
