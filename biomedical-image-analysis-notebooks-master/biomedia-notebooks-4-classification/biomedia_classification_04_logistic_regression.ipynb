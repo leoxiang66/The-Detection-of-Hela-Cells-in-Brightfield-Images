{
 "cells": [
  {
   "cell_type": "markdown",
   "metadata": {},
   "source": [
    "<div class=\"alert alert-block alert-info\">\n",
    "Visit the <a href=\"https://github.com/engs1258/biomedical-image-analysis-notebooks/wiki\">wiki</a> pages to find some additional documentation and instructions on how view an interactive verson of these notebooks using binder.</div>\n",
    "\n",
    "---\n",
    "\n"
   ]
  },
  {
   "cell_type": "code",
   "execution_count": 1,
   "metadata": {},
   "outputs": [],
   "source": [
    "import math\n",
    "import numpy as np\n",
    "import matplotlib.pyplot as plt\n",
    "\n",
    "\n",
    "from sklearn.utils import shuffle\n",
    "from sklearn.linear_model import LogisticRegression\n",
    "from sklearn.decomposition import PCA\n",
    "from sklearn.metrics import classification_report\n",
    "\n",
    "import os\n",
    "import csv\n",
    "import random\n",
    "\n",
    "%matplotlib inline"
   ]
  },
  {
   "cell_type": "markdown",
   "metadata": {},
   "source": [
    "### Step 1: Load the csv files that contain the generated features"
   ]
  },
  {
   "cell_type": "code",
   "execution_count": 2,
   "metadata": {},
   "outputs": [],
   "source": [
    "features = []\n",
    "labels = []\n",
    "\n",
    "with open('./papsmear-features-normal.csv', newline='') as csvfile:\n",
    "    stored_features = csv.reader(csvfile, delimiter=',', quotechar='|')\n",
    "    for row in stored_features:\n",
    "        filename = row[0]\n",
    "        class_label = row[1]\n",
    "        v = np.array(row[2:len(row)], dtype=np.float32)\n",
    "        f = [filename, class_label, v]\n",
    "        features.append(f)\n",
    "        labels.append(class_label)"
   ]
  },
  {
   "cell_type": "code",
   "execution_count": 3,
   "metadata": {},
   "outputs": [],
   "source": [
    "with open('./papsmear-features-displastic.csv', newline='') as csvfile:\n",
    "    stored_features = csv.reader(csvfile, delimiter=',', quotechar='|')\n",
    "    for row in stored_features:\n",
    "        filename = row[0]\n",
    "        class_label = row[1]\n",
    "        v = np.array(row[2:len(row)], dtype=np.float32)\n",
    "        f = [filename, class_label, v]\n",
    "        features.append(f)\n",
    "        labels.append(class_label)"
   ]
  },
  {
   "cell_type": "markdown",
   "metadata": {},
   "source": [
    "### Step 2: Split the data into training and testing"
   ]
  },
  {
   "cell_type": "code",
   "execution_count": 4,
   "metadata": {},
   "outputs": [],
   "source": [
    "feature_length = len(features[0][2])\n",
    "features, labels = shuffle(features, labels, random_state=0)"
   ]
  },
  {
   "cell_type": "code",
   "execution_count": 5,
   "metadata": {},
   "outputs": [],
   "source": [
    "N_train = 200\n",
    "features_train = features[0:N_train]\n",
    "features_test = features[N_train:len(features)]\n",
    "\n",
    "labels_train = labels[0:N_train]\n",
    "labels_test = labels[N_train:len(features)]"
   ]
  },
  {
   "cell_type": "code",
   "execution_count": 6,
   "metadata": {},
   "outputs": [],
   "source": [
    "data_train = np.zeros((len(features_train), feature_length))\n",
    "data_test  = np.zeros((len(features_test), feature_length))"
   ]
  },
  {
   "cell_type": "code",
   "execution_count": 7,
   "metadata": {},
   "outputs": [],
   "source": [
    "for i in range(0, len(features_train)):\n",
    "    data_train[i, :] = features_train[i][2]\n",
    "    \n",
    "for i in range(0, len(features_test)):\n",
    "    data_test[i, :] = features_test[i][2]"
   ]
  },
  {
   "cell_type": "markdown",
   "metadata": {},
   "source": [
    "### Step 3: Set up and train the classifier"
   ]
  },
  {
   "cell_type": "code",
   "execution_count": 8,
   "metadata": {},
   "outputs": [],
   "source": [
    "clf = LogisticRegression(random_state=0, max_iter=500)"
   ]
  },
  {
   "cell_type": "code",
   "execution_count": 9,
   "metadata": {},
   "outputs": [
    {
     "data": {
      "text/plain": [
       "LogisticRegression(C=1.0, class_weight=None, dual=False, fit_intercept=True,\n",
       "                   intercept_scaling=1, l1_ratio=None, max_iter=500,\n",
       "                   multi_class='auto', n_jobs=None, penalty='l2',\n",
       "                   random_state=0, solver='lbfgs', tol=0.0001, verbose=0,\n",
       "                   warm_start=False)"
      ]
     },
     "execution_count": 9,
     "metadata": {},
     "output_type": "execute_result"
    }
   ],
   "source": [
    "clf.fit(data_train, np.asarray(labels_train))"
   ]
  },
  {
   "cell_type": "code",
   "execution_count": 10,
   "metadata": {},
   "outputs": [
    {
     "name": "stdout",
     "output_type": "stream",
     "text": [
      "['0' '0' '1' '1' '1' '0' '1' '1' '1' '0' '0' '1' '0' '1' '0' '1' '0' '0'\n",
      " '1' '1' '0' '1' '1' '0' '0' '1' '1' '1' '0' '0' '0' '0' '1' '1' '1' '0'\n",
      " '1' '1' '1' '1' '1' '1' '1' '1' '1' '1' '1' '1' '1' '0' '0' '0' '1' '1'\n",
      " '1' '1' '1' '0' '1' '1' '1' '1' '0' '1' '0' '1' '1' '1' '1' '0' '0']\n"
     ]
    }
   ],
   "source": [
    "prediction = clf.predict(data_test)\n",
    "print(prediction)"
   ]
  },
  {
   "cell_type": "code",
   "execution_count": 11,
   "metadata": {},
   "outputs": [
    {
     "name": "stdout",
     "output_type": "stream",
     "text": [
      "              precision    recall  f1-score   support\n",
      "\n",
      "           0       0.64      0.94      0.76        17\n",
      "           1       0.98      0.83      0.90        54\n",
      "\n",
      "    accuracy                           0.86        71\n",
      "   macro avg       0.81      0.89      0.83        71\n",
      "weighted avg       0.90      0.86      0.87        71\n",
      "\n"
     ]
    }
   ],
   "source": [
    "print(classification_report(labels_test, prediction))"
   ]
  },
  {
   "cell_type": "code",
   "execution_count": null,
   "metadata": {},
   "outputs": [],
   "source": []
  }
 ],
 "metadata": {
  "kernelspec": {
   "display_name": "Python 3",
   "language": "python",
   "name": "python3"
  },
  "language_info": {
   "codemirror_mode": {
    "name": "ipython",
    "version": 3
   },
   "file_extension": ".py",
   "mimetype": "text/x-python",
   "name": "python",
   "nbconvert_exporter": "python",
   "pygments_lexer": "ipython3",
   "version": "3.7.6"
  }
 },
 "nbformat": 4,
 "nbformat_minor": 4
}
