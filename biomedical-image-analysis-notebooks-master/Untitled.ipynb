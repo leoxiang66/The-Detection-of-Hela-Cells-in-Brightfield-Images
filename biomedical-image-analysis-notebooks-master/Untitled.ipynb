{
 "cells": [
  {
   "cell_type": "code",
   "execution_count": 9,
   "metadata": {},
   "outputs": [],
   "source": [
    "import subprocess\n",
    "import importlib.util\n",
    "import sys"
   ]
  },
  {
   "cell_type": "code",
   "execution_count": 10,
   "metadata": {},
   "outputs": [],
   "source": [
    "reqs = subprocess.check_output([sys.executable, '-m', 'pip', 'freeze'])\n",
    "installed_packages = [r.decode().split('==')[0] for r in reqs.split()]"
   ]
  },
  {
   "cell_type": "markdown",
   "metadata": {},
   "source": [
    "### numpy "
   ]
  },
  {
   "cell_type": "code",
   "execution_count": null,
   "metadata": {},
   "outputs": [],
   "source": []
  },
  {
   "cell_type": "code",
   "execution_count": 12,
   "metadata": {},
   "outputs": [
    {
     "name": "stdout",
     "output_type": "stream",
     "text": [
      "numpy is installed\n"
     ]
    }
   ],
   "source": [
    "if 'numpy' in installed_packages:\n",
    "    print('numpy is installed')\n",
    "else:\n",
    "    print('make sure that numpy is installed') "
   ]
  },
  {
   "cell_type": "code",
   "execution_count": null,
   "metadata": {},
   "outputs": [],
   "source": []
  },
  {
   "cell_type": "code",
   "execution_count": 11,
   "metadata": {},
   "outputs": [
    {
     "name": "stdout",
     "output_type": "stream",
     "text": [
      "['alabaster', 'anaconda-client', 'anaconda-navigator', 'anaconda-project', 'applaunchservices', 'appnope', 'appscript', 'argh', 'asn1crypto', 'astroid', 'astropy', 'atomicwrites', 'attrs', 'autopep8', 'Babel', 'backcall', 'backports.functools-lru-cache', 'backports.shutil-get-terminal-size', 'backports.tempfile', 'backports.weakref', 'beautifulsoup4', 'bitarray', 'bkcharts', 'bleach', 'bokeh', 'boto', 'Bottleneck', 'certifi', 'cffi', 'chardet', 'Click', 'cloudpickle', 'clyent', 'colorama', 'conda', 'conda-build', 'conda-package-handling', 'conda-verify', 'contextlib2', 'cryptography', 'cycler', 'Cython', 'cytoolz', 'dask', 'decorator', 'defusedxml', 'diff-match-patch', 'distributed', 'docutils', 'entrypoints', 'et-xmlfile', 'fastcache', 'filelock', 'flake8', 'Flask', 'fsspec', 'future', 'gevent', 'glob2', 'gmpy2', 'greenlet', 'h5py', 'HeapDict', 'html5lib', 'hypothesis', 'idna', 'imageio', 'imagesize', 'importlib-metadata', 'intervaltree', 'ipykernel', 'ipython', 'ipython-genutils', 'ipywidgets', 'isort', 'itsdangerous', 'jdcal', 'jedi', 'Jinja2', 'joblib', 'json5', 'jsonschema', 'jupyter', 'jupyter-client', 'jupyter-console', 'jupyter-core', 'jupyterlab', 'jupyterlab-server', 'keyring', 'kiwisolver', 'lazy-object-proxy', 'libarchive-c', 'lief', 'llvmlite', 'locket', 'lxml', 'MarkupSafe', 'matplotlib', 'mccabe', 'mistune', 'mkl-fft', 'mkl-random', 'mkl-service', 'mock', 'more-itertools', 'mpmath', 'msgpack', 'multipledispatch', 'navigator-updater', 'nbconvert', 'nbformat', 'networkx', 'nltk', 'nose', 'notebook', 'numba', 'numexpr', 'numpy', 'numpydoc', 'olefile', 'openpyxl', 'packaging', 'pandas', 'pandocfilters', 'parso', 'partd', 'path', 'pathlib2', 'pathtools', 'patsy', 'pep8', 'pexpect', 'pickleshare', 'Pillow', 'pkginfo', 'pluggy', 'ply', 'prometheus-client', 'prompt-toolkit', 'psutil', 'ptyprocess', 'py', 'pycodestyle', 'pycosat', 'pycparser', 'pycrypto', 'pycurl', 'pydicom', 'pydocstyle', 'pyflakes', 'Pygments', 'pylint', 'pyodbc', 'pyOpenSSL', 'pyparsing', 'pyrsistent', 'PySocks', 'pytest', 'pytest-arraydiff', 'pytest-astropy', 'pytest-astropy-header', 'pytest-doctestplus', 'pytest-openfiles', 'pytest-remotedata', 'python-dateutil', 'python-jsonrpc-server', 'python-language-server', 'pytz', 'PyWavelets', 'PyYAML', 'pyzmq', 'QDarkStyle', 'QtAwesome', 'qtconsole', 'QtPy', 'requests', 'rope', 'Rtree', 'ruamel-yaml', 'scikit-image', 'scikit-learn', 'scipy', 'seaborn', 'Send2Trash', 'simplegeneric', 'SimpleITK', 'singledispatch', 'six', 'snowballstemmer', 'sortedcollections', 'sortedcontainers', 'soupsieve', 'Sphinx', 'sphinxcontrib-applehelp', 'sphinxcontrib-devhelp', 'sphinxcontrib-htmlhelp', 'sphinxcontrib-jsmath', 'sphinxcontrib-qthelp', 'sphinxcontrib-serializinghtml', 'sphinxcontrib-websupport', 'spyder', 'spyder-kernels', 'SQLAlchemy', 'statsmodels', 'sympy', 'tables', 'tblib', 'terminado', 'testpath', 'toolz', 'tornado', 'tqdm', 'traitlets', 'ujson', 'unicodecsv', 'urllib3', 'watchdog', 'wcwidth', 'webencodings', 'Werkzeug', 'widgetsnbextension', 'wrapt', 'wurlitzer', 'xlrd', 'XlsxWriter', 'xlwings', 'xlwt', 'xmltodict', 'yapf', 'zict', 'zipp']\n"
     ]
    }
   ],
   "source": [
    "print(installed_packages)"
   ]
  },
  {
   "cell_type": "code",
   "execution_count": null,
   "metadata": {},
   "outputs": [],
   "source": []
  }
 ],
 "metadata": {
  "kernelspec": {
   "display_name": "Python 3",
   "language": "python",
   "name": "python3"
  },
  "language_info": {
   "codemirror_mode": {
    "name": "ipython",
    "version": 3
   },
   "file_extension": ".py",
   "mimetype": "text/x-python",
   "name": "python",
   "nbconvert_exporter": "python",
   "pygments_lexer": "ipython3",
   "version": "3.7.6"
  }
 },
 "nbformat": 4,
 "nbformat_minor": 4
}
