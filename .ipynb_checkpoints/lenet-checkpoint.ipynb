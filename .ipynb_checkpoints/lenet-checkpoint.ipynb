{
 "cells": [
  {
   "cell_type": "code",
   "execution_count": null,
   "metadata": {},
   "outputs": [],
   "source": [
    "import tensorflow as tf\n",
    "import matplotlib.pyplot as plt\n",
    "from tensorflow import keras\n",
    "from skimage.io import ImageCollection\n",
    "from pprint import pprint\n",
    "from skimage import io\n",
    "import numpy as np"
   ]
  },
  {
   "cell_type": "code",
   "execution_count": null,
   "metadata": {},
   "outputs": [],
   "source": [
    "def readAllImages(path):\n",
    "    img_arr = ImageCollection(path + '/*.png')\n",
    "    return img_arr,len(img_arr)"
   ]
  },
  {
   "cell_type": "code",
   "execution_count": null,
   "metadata": {},
   "outputs": [],
   "source": [
    "# 读取数据\n",
    "blank = readAllImages('''Classify 4/Blank_aug''')\n",
    "border = readAllImages('''Classify 4/Border_aug''')\n",
    "center = readAllImages('''Classify 4/Center_aug''')\n",
    "\n",
    "arr1,len1 = blank[0],blank[1]   # 2\n",
    "arr2,len2 = border[0],border[1]  # 0\n",
    "arr3,len3 = center[0],center[1] # 1\n",
    "\n",
    "\n",
    "y1 = np.full((len1,),2)\n",
    "y2 = np.zeros((len2,))\n",
    "y3 = np.ones((len3,))\n",
    "\n",
    "y_train = np.concatenate([y1,y2,y3])\n",
    "y_train = y_train.reshape((-1,1)).astype('int32')\n",
    "\n",
    "\n",
    "\n",
    "all_images = []\n",
    "for i in arr1:\n",
    "    all_images.append(i)\n",
    "\n",
    "for i in arr2:\n",
    "    all_images.append(i)\n",
    "\n",
    "for i in arr3:\n",
    "    all_images.append(i)\n",
    "\n",
    "\n",
    "\n",
    "\n",
    "\n",
    "x_train = np.stack(all_images,axis=0)\n",
    "print(x_train.shape)\n",
    "print(y_train.shape)"
   ]
  },
  {
   "cell_type": "code",
   "execution_count": null,
   "metadata": {},
   "outputs": [],
   "source": [
    "# 数据预处理函数\n",
    "def preprocess(x, y):\n",
    "    x = tf.cast(x, dtype=tf.float32) / 255.\n",
    "    x = tf.reshape(x, [-1, 32, 32, 3])\n",
    "    y = tf.one_hot(y, depth=3)  # one_hot 编码\n",
    "    return x, y"
   ]
  },
  {
   "cell_type": "code",
   "execution_count": null,
   "metadata": {},
   "outputs": [],
   "source": [
    "# 加载数据集\n",
    "# (x_train, y_train), (x_test, y_test) = tf.keras.datasets.fashion_mnist.load_data()\n",
    "# pprint(x_train)\n",
    "# print(x_train.shape)\n"
   ]
  },
  {
   "cell_type": "code",
   "execution_count": null,
   "metadata": {},
   "outputs": [],
   "source": [
    "# 样本图像周围补0（上下左右均补6个0），将20*20的图像转成32*32的图像\n",
    "paddings = tf.constant([[0,0],[6, 6], [6, 6], [0, 0]])\n",
    "print(x_train[0].shape)\n",
    "x_train = tf.pad(x_train, paddings)\n",
    "# x_test = tf.pad(x_test, paddings)\n",
    "\n",
    "x_train.shape"
   ]
  },
  {
   "cell_type": "code",
   "execution_count": null,
   "metadata": {},
   "outputs": [],
   "source": [
    "train_db = tf.data.Dataset.from_tensor_slices((x_train, y_train))\n",
    "train_db = train_db.shuffle(10000)  # 打乱训练集样本\n",
    "train_db = train_db.batch(128)\n",
    "train_db = train_db.map(preprocess)\n",
    "\n",
    "# test_db = tf.data.Dataset.from_tensor_slices((x_test, y_test))\n",
    "# test_db = test_db.shuffle(10000)  # 打乱测试集样本\n",
    "# test_db = test_db.batch(128)\n",
    "# test_db = test_db.map(preprocess)\n",
    "\n",
    "batch = 32\n"
   ]
  },
  {
   "cell_type": "code",
   "execution_count": null,
   "metadata": {},
   "outputs": [],
   "source": [
    "# 创建模型\n",
    "model = keras.Sequential([\n",
    "    # 卷积层1\n",
    "    keras.layers.Conv2D(6, 5),  # 使用6个5*5的卷积核对单通道32*32的图片进行卷积，结果得到6个28*28的特征图\n",
    "    keras.layers.MaxPooling2D(pool_size=2, strides=2),  # 对28*28的特征图进行2*2最大池化，得到14*14的特征图\n",
    "    keras.layers.ReLU(),  # ReLU激活函数\n",
    "    # 卷积层2\n",
    "    keras.layers.Conv2D(16, 5),  # 使用16个5*5的卷积核对6通道14*14的图片进行卷积，结果得到16个10*10的特征图\n",
    "    keras.layers.MaxPooling2D(pool_size=2, strides=2),  # 对10*10的特征图进行2*2最大池化，得到5*5的特征图\n",
    "    keras.layers.ReLU(),  # ReLU激活函数\n",
    "    # 卷积层3\n",
    "    keras.layers.Conv2D(120, 5),  # 使用120个5*5的卷积核对16通道5*5的图片进行卷积，结果得到120个1*1的特征图\n",
    "    keras.layers.ReLU(),  # ReLU激活函数\n",
    "    # 将 (None, 1, 1, 120) 的下采样图片拉伸成 (None, 120) 的形状\n",
    "    keras.layers.Flatten(),\n",
    "    # 全连接层1\n",
    "    keras.layers.Dense(84, activation='relu'),  # 120*84\n",
    "    # 全连接层2\n",
    "    keras.layers.Dense(10, activation='softmax')  # 84*10\n",
    "])\n",
    "model.build(input_shape=(batch, 32, 32, 1))\n",
    "model.summary()\n"
   ]
  },
  {
   "cell_type": "code",
   "execution_count": null,
   "metadata": {},
   "outputs": [],
   "source": [
    "model.compile(optimizer=keras.optimizers.Adam(), loss=keras.losses.CategoricalCrossentropy(), metrics=['accuracy'])\n",
    "# 训练\n",
    "history = model.fit(train_db, epochs=50)"
   ]
  },
  {
   "cell_type": "code",
   "execution_count": null,
   "metadata": {},
   "outputs": [],
   "source": [
    "# 损失下降曲线\n",
    "plt.plot(history.history['loss'])\n",
    "plt.title('model loss')\n",
    "plt.ylabel('loss')\n",
    "plt.xlabel('epoch')\n",
    "plt.show()"
   ]
  },
  {
   "cell_type": "code",
   "execution_count": null,
   "metadata": {},
   "outputs": [],
   "source": [
    "# 测试\n",
    "model.evaluate(test_db)"
   ]
  },
  {
   "cell_type": "code",
   "execution_count": null,
   "metadata": {},
   "outputs": [],
   "source": []
  }
 ],
 "metadata": {
  "kernelspec": {
   "display_name": "Python 3",
   "language": "python",
   "name": "python3"
  },
  "language_info": {
   "codemirror_mode": {
    "name": "ipython",
    "version": 3
   },
   "file_extension": ".py",
   "mimetype": "text/x-python",
   "name": "python",
   "nbconvert_exporter": "python",
   "pygments_lexer": "ipython3",
   "version": "3.8.5"
  }
 },
 "nbformat": 4,
 "nbformat_minor": 5
}
