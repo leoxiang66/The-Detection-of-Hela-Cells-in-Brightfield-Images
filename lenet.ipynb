{
 "cells": [
  {
   "cell_type": "code",
   "execution_count": 1,
   "metadata": {},
   "outputs": [],
   "source": [
    "import tensorflow as tf\n",
    "import matplotlib.pyplot as plt\n",
    "from tensorflow import keras\n",
    "from skimage.io import ImageCollection\n",
    "from pprint import pprint\n",
    "from skimage import io,transform\n",
    "import numpy as np"
   ]
  },
  {
   "cell_type": "code",
   "execution_count": 2,
   "metadata": {},
   "outputs": [],
   "source": [
    "def readAllImages(path):\n",
    "    img_arr = ImageCollection(path + '/*.png')\n",
    "    return img_arr,len(img_arr)"
   ]
  },
  {
   "cell_type": "code",
   "execution_count": 3,
   "metadata": {},
   "outputs": [
    {
     "name": "stdout",
     "output_type": "stream",
     "text": [
      "(1200, 20, 20, 3) (299, 20, 20, 3)\n",
      "(1200,) (299,)\n"
     ]
    }
   ],
   "source": [
    "# 读取数据\n",
    "blank = readAllImages('''Classify 4/Blank_aug''')\n",
    "border = readAllImages('''Classify 4/Border_aug''')\n",
    "center = readAllImages('''Classify 4/Center_aug''')\n",
    "\n",
    "arr1,len1 = blank[0],blank[1]   # 2\n",
    "arr2,len2 = border[0],border[1]  # 0\n",
    "arr3,len3 = center[0],center[1] # 1\n",
    "\n",
    "\n",
    "\n",
    "\n",
    "\n",
    "\n",
    "train_images = []\n",
    "test_images = []\n",
    "train_y = []\n",
    "test_y = []\n",
    "\n",
    "for i in range(len1):\n",
    "    if i >= 400:\n",
    "        test_images.append(arr1[i])\n",
    "        test_y.append(2)\n",
    "    else:\n",
    "        train_images.append(arr1[i])\n",
    "        train_y.append(2)\n",
    "\n",
    "for i in range(len2):\n",
    "    if i >= 400:\n",
    "        test_images.append(arr2[i])\n",
    "        test_y.append(0)\n",
    "    else:\n",
    "        train_images.append(arr2[i])\n",
    "        train_y.append(0)\n",
    "        \n",
    "for i in range(len3):\n",
    "    if i >= 400:\n",
    "        test_images.append(arr3[i])\n",
    "        test_y.append(1)\n",
    "    else:\n",
    "        train_images.append(arr3[i])\n",
    "        train_y.append(1)\n",
    "\n",
    "\n",
    "y_train = np.array(train_y,dtype='int32')\n",
    "y_test = np.array(test_y,dtype='int32')\n",
    "x_train = np.stack(train_images,axis=0)\n",
    "x_test = np.stack(test_images,axis=0)\n",
    "\n",
    "print(x_train.shape, x_test.shape)\n",
    "print(y_train.shape, y_test.shape)\n",
    "\n"
   ]
  },
  {
   "cell_type": "code",
   "execution_count": 4,
   "metadata": {},
   "outputs": [],
   "source": [
    "# 数据预处理函数\n",
    "def preprocess(x, y):\n",
    "    x = tf.cast(x, dtype=tf.float32) / 255.\n",
    "    x = tf.reshape(x, [-1, 32, 32, 3])\n",
    "    y = tf.one_hot(y, depth=3)  # one_hot 编码\n",
    "    return x, y"
   ]
  },
  {
   "cell_type": "code",
   "execution_count": 5,
   "metadata": {},
   "outputs": [
    {
     "data": {
      "text/plain": [
       "(TensorShape([1200, 32, 32, 3]), TensorShape([299, 32, 32, 3]))"
      ]
     },
     "execution_count": 5,
     "metadata": {},
     "output_type": "execute_result"
    }
   ],
   "source": [
    "# 样本图像周围补0（上下左右均补6个0），将20*20的图像转成32*32的图像\n",
    "paddings = tf.constant([[0,0],[6, 6], [6, 6], [0, 0]])\n",
    "x_train = tf.pad(x_train, paddings)\n",
    "x_test = tf.pad(x_test, paddings)\n",
    "\n",
    "x_train.shape, x_test.shape"
   ]
  },
  {
   "cell_type": "code",
   "execution_count": 6,
   "metadata": {},
   "outputs": [],
   "source": [
    "train_db = tf.data.Dataset.from_tensor_slices((x_train, y_train))\n",
    "train_db = train_db.shuffle(10000)  # 打乱训练集样本\n",
    "train_db = train_db.batch(128)\n",
    "train_db = train_db.map(preprocess)\n",
    "\n",
    "test_db = tf.data.Dataset.from_tensor_slices((x_test, y_test))\n",
    "test_db = test_db.shuffle(10000)  # 打乱测试集样本\n",
    "test_db = test_db.batch(128)\n",
    "test_db = test_db.map(preprocess)\n",
    "\n",
    "batch = 32\n"
   ]
  },
  {
   "cell_type": "code",
   "execution_count": 7,
   "metadata": {},
   "outputs": [
    {
     "name": "stdout",
     "output_type": "stream",
     "text": [
      "Model: \"sequential\"\n",
      "_________________________________________________________________\n",
      "Layer (type)                 Output Shape              Param #   \n",
      "=================================================================\n",
      "conv2d (Conv2D)              (32, 28, 28, 6)           456       \n",
      "_________________________________________________________________\n",
      "max_pooling2d (MaxPooling2D) (32, 14, 14, 6)           0         \n",
      "_________________________________________________________________\n",
      "re_lu (ReLU)                 (32, 14, 14, 6)           0         \n",
      "_________________________________________________________________\n",
      "conv2d_1 (Conv2D)            (32, 10, 10, 16)          2416      \n",
      "_________________________________________________________________\n",
      "max_pooling2d_1 (MaxPooling2 (32, 5, 5, 16)            0         \n",
      "_________________________________________________________________\n",
      "re_lu_1 (ReLU)               (32, 5, 5, 16)            0         \n",
      "_________________________________________________________________\n",
      "conv2d_2 (Conv2D)            (32, 1, 1, 120)           48120     \n",
      "_________________________________________________________________\n",
      "re_lu_2 (ReLU)               (32, 1, 1, 120)           0         \n",
      "_________________________________________________________________\n",
      "flatten (Flatten)            (32, 120)                 0         \n",
      "_________________________________________________________________\n",
      "dense (Dense)                (32, 84)                  10164     \n",
      "_________________________________________________________________\n",
      "dense_1 (Dense)              (32, 3)                   255       \n",
      "=================================================================\n",
      "Total params: 61,411\n",
      "Trainable params: 61,411\n",
      "Non-trainable params: 0\n",
      "_________________________________________________________________\n"
     ]
    }
   ],
   "source": [
    "# 创建模型\n",
    "model = keras.Sequential([\n",
    "    # 卷积层1\n",
    "    keras.layers.Conv2D(6, 5),  # 使用6个5*5的卷积核对单通道32*32的图片进行卷积，结果得到6个28*28的特征图\n",
    "    keras.layers.MaxPooling2D(pool_size=2, strides=2),  # 对28*28的特征图进行2*2最大池化，得到14*14的特征图\n",
    "    keras.layers.ReLU(),  # ReLU激活函数\n",
    "    # 卷积层2\n",
    "    keras.layers.Conv2D(16, 5),  # 使用16个5*5的卷积核对6通道14*14的图片进行卷积，结果得到16个10*10的特征图\n",
    "    keras.layers.MaxPooling2D(pool_size=2, strides=2),  # 对10*10的特征图进行2*2最大池化，得到5*5的特征图\n",
    "    keras.layers.ReLU(),  # ReLU激活函数\n",
    "    # 卷积层3\n",
    "    keras.layers.Conv2D(120, 5),  # 使用120个5*5的卷积核对16通道5*5的图片进行卷积，结果得到120个1*1的特征图\n",
    "    keras.layers.ReLU(),  # ReLU激活函数\n",
    "    # 将 (None, 1, 1, 120) 的下采样图片拉伸成 (None, 120) 的形状\n",
    "    keras.layers.Flatten(),\n",
    "    # 全连接层1\n",
    "    keras.layers.Dense(84, activation='relu'),  # 120*84\n",
    "    # 全连接层2\n",
    "    keras.layers.Dense(3, activation='softmax')  # 84*10\n",
    "])\n",
    "model.build(input_shape=(batch, 32, 32, 3))\n",
    "model.summary()\n"
   ]
  },
  {
   "cell_type": "code",
   "execution_count": 8,
   "metadata": {},
   "outputs": [
    {
     "name": "stdout",
     "output_type": "stream",
     "text": [
      "Epoch 1/50\n",
      "10/10 [==============================] - 1s 28ms/step - loss: 1.0839 - categorical_accuracy: 0.4090\n",
      "Epoch 2/50\n",
      "10/10 [==============================] - 0s 26ms/step - loss: 0.9825 - categorical_accuracy: 0.5432\n",
      "Epoch 3/50\n",
      "10/10 [==============================] - 0s 27ms/step - loss: 0.7492 - categorical_accuracy: 0.6969\n",
      "Epoch 4/50\n",
      "10/10 [==============================] - 0s 29ms/step - loss: 0.5442 - categorical_accuracy: 0.7521\n",
      "Epoch 5/50\n",
      "10/10 [==============================] - 0s 27ms/step - loss: 0.4784 - categorical_accuracy: 0.7476\n",
      "Epoch 6/50\n",
      "10/10 [==============================] - 0s 26ms/step - loss: 0.4310 - categorical_accuracy: 0.7657\n",
      "Epoch 7/50\n",
      "10/10 [==============================] - 0s 27ms/step - loss: 0.4409 - categorical_accuracy: 0.7585\n",
      "Epoch 8/50\n",
      "10/10 [==============================] - 0s 28ms/step - loss: 0.3964 - categorical_accuracy: 0.7971\n",
      "Epoch 9/50\n",
      "10/10 [==============================] - 0s 26ms/step - loss: 0.4040 - categorical_accuracy: 0.8002\n",
      "Epoch 10/50\n",
      "10/10 [==============================] - 0s 26ms/step - loss: 0.4085 - categorical_accuracy: 0.7850\n",
      "Epoch 11/50\n",
      "10/10 [==============================] - 0s 26ms/step - loss: 0.3896 - categorical_accuracy: 0.7974\n",
      "Epoch 12/50\n",
      "10/10 [==============================] - 0s 29ms/step - loss: 0.3606 - categorical_accuracy: 0.8378\n",
      "Epoch 13/50\n",
      "10/10 [==============================] - 0s 27ms/step - loss: 0.3495 - categorical_accuracy: 0.8233\n",
      "Epoch 14/50\n",
      "10/10 [==============================] - 0s 26ms/step - loss: 0.3475 - categorical_accuracy: 0.8389\n",
      "Epoch 15/50\n",
      "10/10 [==============================] - 0s 26ms/step - loss: 0.3216 - categorical_accuracy: 0.8577\n",
      "Epoch 16/50\n",
      "10/10 [==============================] - 0s 29ms/step - loss: 0.3181 - categorical_accuracy: 0.8581\n",
      "Epoch 17/50\n",
      "10/10 [==============================] - 0s 27ms/step - loss: 0.2978 - categorical_accuracy: 0.8736\n",
      "Epoch 18/50\n",
      "10/10 [==============================] - 0s 25ms/step - loss: 0.3229 - categorical_accuracy: 0.8397\n",
      "Epoch 19/50\n",
      "10/10 [==============================] - 0s 26ms/step - loss: 0.3058 - categorical_accuracy: 0.8628\n",
      "Epoch 20/50\n",
      "10/10 [==============================] - 0s 27ms/step - loss: 0.2728 - categorical_accuracy: 0.8671\n",
      "Epoch 21/50\n",
      "10/10 [==============================] - 0s 28ms/step - loss: 0.2631 - categorical_accuracy: 0.9014\n",
      "Epoch 22/50\n",
      "10/10 [==============================] - 0s 26ms/step - loss: 0.2586 - categorical_accuracy: 0.8969\n",
      "Epoch 23/50\n",
      "10/10 [==============================] - 0s 25ms/step - loss: 0.2212 - categorical_accuracy: 0.9210\n",
      "Epoch 24/50\n",
      "10/10 [==============================] - 0s 27ms/step - loss: 0.2878 - categorical_accuracy: 0.8696\n",
      "Epoch 25/50\n",
      "10/10 [==============================] - 0s 26ms/step - loss: 0.2839 - categorical_accuracy: 0.8764\n",
      "Epoch 26/50\n",
      "10/10 [==============================] - 0s 25ms/step - loss: 0.2698 - categorical_accuracy: 0.8701\n",
      "Epoch 27/50\n",
      "10/10 [==============================] - 0s 28ms/step - loss: 0.2456 - categorical_accuracy: 0.9044\n",
      "Epoch 28/50\n",
      "10/10 [==============================] - 0s 27ms/step - loss: 0.1933 - categorical_accuracy: 0.9431\n",
      "Epoch 29/50\n",
      "10/10 [==============================] - 0s 25ms/step - loss: 0.1901 - categorical_accuracy: 0.9314\n",
      "Epoch 30/50\n",
      "10/10 [==============================] - 0s 28ms/step - loss: 0.2399 - categorical_accuracy: 0.8847\n",
      "Epoch 31/50\n",
      "10/10 [==============================] - 0s 26ms/step - loss: 0.2328 - categorical_accuracy: 0.9045\n",
      "Epoch 32/50\n",
      "10/10 [==============================] - 0s 32ms/step - loss: 0.2492 - categorical_accuracy: 0.8996\n",
      "Epoch 33/50\n",
      "10/10 [==============================] - 0s 26ms/step - loss: 0.2082 - categorical_accuracy: 0.9161\n",
      "Epoch 34/50\n",
      "10/10 [==============================] - 0s 26ms/step - loss: 0.1764 - categorical_accuracy: 0.9369\n",
      "Epoch 35/50\n",
      "10/10 [==============================] - 0s 25ms/step - loss: 0.1554 - categorical_accuracy: 0.9386\n",
      "Epoch 36/50\n",
      "10/10 [==============================] - 0s 27ms/step - loss: 0.1388 - categorical_accuracy: 0.9545\n",
      "Epoch 37/50\n",
      "10/10 [==============================] - 0s 26ms/step - loss: 0.1237 - categorical_accuracy: 0.9667\n",
      "Epoch 38/50\n",
      "10/10 [==============================] - 0s 26ms/step - loss: 0.1676 - categorical_accuracy: 0.9357\n",
      "Epoch 39/50\n",
      "10/10 [==============================] - 0s 28ms/step - loss: 0.1939 - categorical_accuracy: 0.9049\n",
      "Epoch 40/50\n",
      "10/10 [==============================] - 0s 28ms/step - loss: 0.1513 - categorical_accuracy: 0.9432\n",
      "Epoch 41/50\n",
      "10/10 [==============================] - 0s 26ms/step - loss: 0.1529 - categorical_accuracy: 0.9358\n",
      "Epoch 42/50\n",
      "10/10 [==============================] - 0s 28ms/step - loss: 0.1207 - categorical_accuracy: 0.9514\n",
      "Epoch 43/50\n",
      "10/10 [==============================] - 0s 31ms/step - loss: 0.1393 - categorical_accuracy: 0.9403\n",
      "Epoch 44/50\n",
      "10/10 [==============================] - 0s 32ms/step - loss: 0.1044 - categorical_accuracy: 0.9636\n",
      "Epoch 45/50\n",
      "10/10 [==============================] - 0s 29ms/step - loss: 0.0960 - categorical_accuracy: 0.9729\n",
      "Epoch 46/50\n",
      "10/10 [==============================] - 0s 27ms/step - loss: 0.0797 - categorical_accuracy: 0.9754\n",
      "Epoch 47/50\n",
      "10/10 [==============================] - 0s 28ms/step - loss: 0.0879 - categorical_accuracy: 0.9729\n",
      "Epoch 48/50\n",
      "10/10 [==============================] - 0s 27ms/step - loss: 0.1316 - categorical_accuracy: 0.9464\n",
      "Epoch 49/50\n",
      "10/10 [==============================] - 0s 26ms/step - loss: 0.0941 - categorical_accuracy: 0.9662\n",
      "Epoch 50/50\n",
      "10/10 [==============================] - 0s 26ms/step - loss: 0.1480 - categorical_accuracy: 0.9397\n"
     ]
    }
   ],
   "source": [
    "model.compile(optimizer=keras.optimizers.Adam(), loss=keras.losses.CategoricalCrossentropy(), metrics=['categorical_accuracy'])\n",
    "# 训练\n",
    "history = model.fit(train_db, epochs=50)"
   ]
  },
  {
   "cell_type": "code",
   "execution_count": 9,
   "metadata": {},
   "outputs": [
    {
     "data": {
      "image/png": "[encoded data removed]",
      "text/plain": [
       "<Figure size 432x288 with 1 Axes>"
      ]
     },
     "metadata": {
      "needs_background": "light"
     },
     "output_type": "display_data"
    }
   ],
   "source": [
    "# 损失下降曲线\n",
    "plt.plot(history.history['loss'])\n",
    "plt.title('model loss')\n",
    "plt.ylabel('loss')\n",
    "plt.xlabel('epoch')\n",
    "plt.show()"
   ]
  },
  {
   "cell_type": "code",
   "execution_count": 10,
   "metadata": {},
   "outputs": [
    {
     "name": "stdout",
     "output_type": "stream",
     "text": [
      "3/3 [==============================] - 0s 9ms/step - loss: 0.2474 - categorical_accuracy: 0.9197\n",
      "38/38 - 0s\n"
     ]
    }
   ],
   "source": [
    "# 测试\n",
    "model.evaluate(test_db)\n",
    "a =  model.predict(x_train,verbose = 2)"
   ]
  },
  {
   "cell_type": "code",
   "execution_count": 11,
   "metadata": {},
   "outputs": [],
   "source": [
    "# 保存模型\n",
    "model.save('lenet-model.h5',overwrite = True, include_optimizer = True)"
   ]
  },
  {
   "cell_type": "code",
   "execution_count": null,
   "metadata": {},
   "outputs": [],
   "source": []
  }
 ],
 "metadata": {
  "kernelspec": {
   "display_name": "Python 3",
   "language": "python",
   "name": "python3"
  },
  "language_info": {
   "codemirror_mode": {
    "name": "ipython",
    "version": 3
   },
   "file_extension": ".py",
   "mimetype": "text/x-python",
   "name": "python",
   "nbconvert_exporter": "python",
   "pygments_lexer": "ipython3",
   "version": "3.8.5"
  }
 },
 "nbformat": 4,
 "nbformat_minor": 5
}