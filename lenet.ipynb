{
 "cells": [
  {
   "cell_type": "code",
   "execution_count": 1,
   "metadata": {},
   "outputs": [],
   "source": [
    "import tensorflow as tf\n",
    "import matplotlib.pyplot as plt\n",
    "from tensorflow import keras\n",
    "from skimage.io import ImageCollection\n",
    "from pprint import pprint\n",
    "from skimage import io\n",
    "import numpy as np"
   ]
  },
  {
   "cell_type": "code",
   "execution_count": 2,
   "metadata": {},
   "outputs": [],
   "source": [
    "def readAllImages(path):\n",
    "    img_arr = ImageCollection(path + '/*.png')\n",
    "    return img_arr,len(img_arr)"
   ]
  },
  {
   "cell_type": "code",
   "execution_count": 3,
   "metadata": {},
   "outputs": [
    {
     "name": "stdout",
     "output_type": "stream",
     "text": [
      "(1499, 20, 20, 3)\n",
      "(1499,)\n"
     ]
    }
   ],
   "source": [
    "# 读取数据\n",
    "blank = readAllImages('''Classify 4/Blank_aug''')\n",
    "border = readAllImages('''Classify 4/Border_aug''')\n",
    "center = readAllImages('''Classify 4/Center_aug''')\n",
    "\n",
    "arr1,len1 = blank[0],blank[1]   # 2\n",
    "arr2,len2 = border[0],border[1]  # 0\n",
    "arr3,len3 = center[0],center[1] # 1\n",
    "\n",
    "\n",
    "y1 = np.full((len1,),2)\n",
    "y2 = np.zeros((len2,))\n",
    "y3 = np.ones((len3,))\n",
    "\n",
    "y_train = np.concatenate([y1,y2,y3])\n",
    "y_train = y_train.astype('int32')\n",
    "\n",
    "\n",
    "\n",
    "all_images = []\n",
    "for i in arr1:\n",
    "    all_images.append(i)\n",
    "\n",
    "for i in arr2:\n",
    "    all_images.append(i)\n",
    "\n",
    "for i in arr3:\n",
    "    all_images.append(i)\n",
    "\n",
    "\n",
    "\n",
    "\n",
    "\n",
    "x_train = np.stack(all_images,axis=0)\n",
    "print(x_train.shape)\n",
    "print(y_train.shape)"
   ]
  },
  {
   "cell_type": "code",
   "execution_count": 4,
   "metadata": {},
   "outputs": [],
   "source": [
    "# 数据预处理函数\n",
    "def preprocess(x, y):\n",
    "    x = tf.cast(x, dtype=tf.float32) / 255.\n",
    "    x = tf.reshape(x, [-1, 32, 32, 3])\n",
    "    y = tf.one_hot(y, depth=3)  # one_hot 编码\n",
    "    return x, y"
   ]
  },
  {
   "cell_type": "code",
   "execution_count": 5,
   "metadata": {},
   "outputs": [
    {
     "data": {
      "text/plain": [
       "TensorShape([1499, 32, 32, 3])"
      ]
     },
     "execution_count": 5,
     "metadata": {},
     "output_type": "execute_result"
    }
   ],
   "source": [
    "# 样本图像周围补0（上下左右均补6个0），将20*20的图像转成32*32的图像\n",
    "paddings = tf.constant([[0,0],[6, 6], [6, 6], [0, 0]])\n",
    "x_train = tf.pad(x_train, paddings)\n",
    "# x_test = tf.pad(x_test, paddings)\n",
    "\n",
    "x_train.shape"
   ]
  },
  {
   "cell_type": "code",
   "execution_count": 6,
   "metadata": {},
   "outputs": [],
   "source": [
    "train_db = tf.data.Dataset.from_tensor_slices((x_train, y_train))\n",
    "train_db = train_db.shuffle(10000)  # 打乱训练集样本\n",
    "train_db = train_db.batch(128)\n",
    "train_db = train_db.map(preprocess)\n",
    "\n",
    "# test_db = tf.data.Dataset.from_tensor_slices((x_test, y_test))\n",
    "# test_db = test_db.shuffle(10000)  # 打乱测试集样本\n",
    "# test_db = test_db.batch(128)\n",
    "# test_db = test_db.map(preprocess)\n",
    "\n",
    "batch = 32\n"
   ]
  },
  {
   "cell_type": "code",
   "execution_count": 7,
   "metadata": {},
   "outputs": [
    {
     "name": "stdout",
     "output_type": "stream",
     "text": [
      "Model: \"sequential\"\n",
      "_________________________________________________________________\n",
      "Layer (type)                 Output Shape              Param #   \n",
      "=================================================================\n",
      "conv2d (Conv2D)              (32, 28, 28, 6)           456       \n",
      "_________________________________________________________________\n",
      "max_pooling2d (MaxPooling2D) (32, 14, 14, 6)           0         \n",
      "_________________________________________________________________\n",
      "re_lu (ReLU)                 (32, 14, 14, 6)           0         \n",
      "_________________________________________________________________\n",
      "conv2d_1 (Conv2D)            (32, 10, 10, 16)          2416      \n",
      "_________________________________________________________________\n",
      "max_pooling2d_1 (MaxPooling2 (32, 5, 5, 16)            0         \n",
      "_________________________________________________________________\n",
      "re_lu_1 (ReLU)               (32, 5, 5, 16)            0         \n",
      "_________________________________________________________________\n",
      "conv2d_2 (Conv2D)            (32, 1, 1, 120)           48120     \n",
      "_________________________________________________________________\n",
      "re_lu_2 (ReLU)               (32, 1, 1, 120)           0         \n",
      "_________________________________________________________________\n",
      "flatten (Flatten)            (32, 120)                 0         \n",
      "_________________________________________________________________\n",
      "dense (Dense)                (32, 84)                  10164     \n",
      "_________________________________________________________________\n",
      "dense_1 (Dense)              (32, 3)                   255       \n",
      "=================================================================\n",
      "Total params: 61,411\n",
      "Trainable params: 61,411\n",
      "Non-trainable params: 0\n",
      "_________________________________________________________________\n"
     ]
    }
   ],
   "source": [
    "# 创建模型\n",
    "model = keras.Sequential([\n",
    "    # 卷积层1\n",
    "    keras.layers.Conv2D(6, 5),  # 使用6个5*5的卷积核对单通道32*32的图片进行卷积，结果得到6个28*28的特征图\n",
    "    keras.layers.MaxPooling2D(pool_size=2, strides=2),  # 对28*28的特征图进行2*2最大池化，得到14*14的特征图\n",
    "    keras.layers.ReLU(),  # ReLU激活函数\n",
    "    # 卷积层2\n",
    "    keras.layers.Conv2D(16, 5),  # 使用16个5*5的卷积核对6通道14*14的图片进行卷积，结果得到16个10*10的特征图\n",
    "    keras.layers.MaxPooling2D(pool_size=2, strides=2),  # 对10*10的特征图进行2*2最大池化，得到5*5的特征图\n",
    "    keras.layers.ReLU(),  # ReLU激活函数\n",
    "    # 卷积层3\n",
    "    keras.layers.Conv2D(120, 5),  # 使用120个5*5的卷积核对16通道5*5的图片进行卷积，结果得到120个1*1的特征图\n",
    "    keras.layers.ReLU(),  # ReLU激活函数\n",
    "    # 将 (None, 1, 1, 120) 的下采样图片拉伸成 (None, 120) 的形状\n",
    "    keras.layers.Flatten(),\n",
    "    # 全连接层1\n",
    "    keras.layers.Dense(84, activation='relu'),  # 120*84\n",
    "    # 全连接层2\n",
    "    keras.layers.Dense(3, activation='softmax')  # 84*10\n",
    "])\n",
    "model.build(input_shape=(batch, 32, 32, 3))\n",
    "model.summary()\n"
   ]
  },
  {
   "cell_type": "code",
   "execution_count": 8,
   "metadata": {},
   "outputs": [
    {
     "name": "stdout",
     "output_type": "stream",
     "text": [
      "Epoch 1/50\n",
      "12/12 [==============================] - 1s 27ms/step - loss: 1.0728 - accuracy: 0.4196\n",
      "Epoch 2/50\n",
      "12/12 [==============================] - 0s 29ms/step - loss: 0.8169 - accuracy: 0.6962\n",
      "Epoch 3/50\n",
      "12/12 [==============================] - 0s 27ms/step - loss: 0.5286 - accuracy: 0.7187\n",
      "Epoch 4/50\n",
      "12/12 [==============================] - 0s 28ms/step - loss: 0.5141 - accuracy: 0.7143\n",
      "Epoch 5/50\n",
      "12/12 [==============================] - 0s 30ms/step - loss: 0.5572 - accuracy: 0.7086\n",
      "Epoch 6/50\n",
      "12/12 [==============================] - 0s 27ms/step - loss: 0.4343 - accuracy: 0.7895\n",
      "Epoch 7/50\n",
      "12/12 [==============================] - 0s 27ms/step - loss: 0.4175 - accuracy: 0.7880\n",
      "Epoch 8/50\n",
      "12/12 [==============================] - 0s 31ms/step - loss: 0.3976 - accuracy: 0.7875\n",
      "Epoch 9/50\n",
      "12/12 [==============================] - 0s 30ms/step - loss: 0.3879 - accuracy: 0.8121\n",
      "Epoch 10/50\n",
      "12/12 [==============================] - 0s 28ms/step - loss: 0.4036 - accuracy: 0.7821\n",
      "Epoch 11/50\n",
      "12/12 [==============================] - 0s 31ms/step - loss: 0.3665 - accuracy: 0.8391\n",
      "Epoch 12/50\n",
      "12/12 [==============================] - 0s 29ms/step - loss: 0.3894 - accuracy: 0.7956\n",
      "Epoch 13/50\n",
      "12/12 [==============================] - 0s 28ms/step - loss: 0.3750 - accuracy: 0.8111\n",
      "Epoch 14/50\n",
      "12/12 [==============================] - 0s 29ms/step - loss: 0.3920 - accuracy: 0.7885\n",
      "Epoch 15/50\n",
      "12/12 [==============================] - 0s 27ms/step - loss: 0.3612 - accuracy: 0.8381\n",
      "Epoch 16/50\n",
      "12/12 [==============================] - 0s 27ms/step - loss: 0.3700 - accuracy: 0.8226\n",
      "Epoch 17/50\n",
      "12/12 [==============================] - 0s 28ms/step - loss: 0.3762 - accuracy: 0.8069\n",
      "Epoch 18/50\n",
      "12/12 [==============================] - 0s 31ms/step - loss: 0.3344 - accuracy: 0.8467\n",
      "Epoch 19/50\n",
      "12/12 [==============================] - 0s 28ms/step - loss: 0.3300 - accuracy: 0.8555\n",
      "Epoch 20/50\n",
      "12/12 [==============================] - 0s 27ms/step - loss: 0.3427 - accuracy: 0.8369\n",
      "Epoch 21/50\n",
      "12/12 [==============================] - 0s 30ms/step - loss: 0.3438 - accuracy: 0.8302\n",
      "Epoch 22/50\n",
      "12/12 [==============================] - 0s 30ms/step - loss: 0.3294 - accuracy: 0.8380\n",
      "Epoch 23/50\n",
      "12/12 [==============================] - 0s 28ms/step - loss: 0.3227 - accuracy: 0.8495\n",
      "Epoch 24/50\n",
      "12/12 [==============================] - 0s 30ms/step - loss: 0.3308 - accuracy: 0.8504\n",
      "Epoch 25/50\n",
      "12/12 [==============================] - 0s 28ms/step - loss: 0.2987 - accuracy: 0.8685\n",
      "Epoch 26/50\n",
      "12/12 [==============================] - 0s 28ms/step - loss: 0.3180 - accuracy: 0.8461\n",
      "Epoch 27/50\n",
      "12/12 [==============================] - 0s 28ms/step - loss: 0.2973 - accuracy: 0.8778\n",
      "Epoch 28/50\n",
      "12/12 [==============================] - 0s 28ms/step - loss: 0.2897 - accuracy: 0.8800\n",
      "Epoch 29/50\n",
      "12/12 [==============================] - 0s 27ms/step - loss: 0.3110 - accuracy: 0.8625\n",
      "Epoch 30/50\n",
      "12/12 [==============================] - 0s 28ms/step - loss: 0.2920 - accuracy: 0.8650\n",
      "Epoch 31/50\n",
      "12/12 [==============================] - 0s 29ms/step - loss: 0.2511 - accuracy: 0.9119\n",
      "Epoch 32/50\n",
      "12/12 [==============================] - 0s 28ms/step - loss: 0.2765 - accuracy: 0.8874\n",
      "Epoch 33/50\n",
      "12/12 [==============================] - 0s 29ms/step - loss: 0.2671 - accuracy: 0.8990\n",
      "Epoch 34/50\n",
      "12/12 [==============================] - 0s 28ms/step - loss: 0.3264 - accuracy: 0.8454\n",
      "Epoch 35/50\n",
      "12/12 [==============================] - 0s 27ms/step - loss: 0.2818 - accuracy: 0.8741\n",
      "Epoch 36/50\n",
      "12/12 [==============================] - 0s 26ms/step - loss: 0.2301 - accuracy: 0.9053\n",
      "Epoch 37/50\n",
      "12/12 [==============================] - 0s 29ms/step - loss: 0.2693 - accuracy: 0.8927\n",
      "Epoch 38/50\n",
      "12/12 [==============================] - 0s 27ms/step - loss: 0.2629 - accuracy: 0.8863\n",
      "Epoch 39/50\n",
      "12/12 [==============================] - 0s 27ms/step - loss: 0.2266 - accuracy: 0.9185\n",
      "Epoch 40/50\n",
      "12/12 [==============================] - 0s 28ms/step - loss: 0.2273 - accuracy: 0.9055\n",
      "Epoch 41/50\n",
      "12/12 [==============================] - 0s 27ms/step - loss: 0.2558 - accuracy: 0.8940\n",
      "Epoch 42/50\n",
      "12/12 [==============================] - 0s 28ms/step - loss: 0.2373 - accuracy: 0.9040\n",
      "Epoch 43/50\n",
      "12/12 [==============================] - 0s 28ms/step - loss: 0.2255 - accuracy: 0.9031\n",
      "Epoch 44/50\n",
      "12/12 [==============================] - 0s 28ms/step - loss: 0.1984 - accuracy: 0.9360\n",
      "Epoch 45/50\n",
      "12/12 [==============================] - 0s 28ms/step - loss: 0.1963 - accuracy: 0.9269\n",
      "Epoch 46/50\n",
      "12/12 [==============================] - 0s 28ms/step - loss: 0.1924 - accuracy: 0.9262\n",
      "Epoch 47/50\n",
      "12/12 [==============================] - 0s 31ms/step - loss: 0.2122 - accuracy: 0.9162\n",
      "Epoch 48/50\n",
      "12/12 [==============================] - 0s 28ms/step - loss: 0.2257 - accuracy: 0.9032\n",
      "Epoch 49/50\n",
      "12/12 [==============================] - 0s 27ms/step - loss: 0.1750 - accuracy: 0.9487\n",
      "Epoch 50/50\n",
      "12/12 [==============================] - 0s 29ms/step - loss: 0.1703 - accuracy: 0.9428\n"
     ]
    }
   ],
   "source": [
    "model.compile(optimizer=keras.optimizers.Adam(), loss=keras.losses.CategoricalCrossentropy(), metrics=['accuracy'])\n",
    "# 训练\n",
    "history = model.fit(train_db, epochs=50)"
   ]
  },
  {
   "cell_type": "code",
   "execution_count": 9,
   "metadata": {},
   "outputs": [
    {
     "data": {
      "image/png": "[encoded data removed]",
      "text/plain": [
       "<Figure size 432x288 with 1 Axes>"
      ]
     },
     "metadata": {
      "needs_background": "light"
     },
     "output_type": "display_data"
    }
   ],
   "source": [
    "# 损失下降曲线\n",
    "plt.plot(history.history['loss'])\n",
    "plt.title('model loss')\n",
    "plt.ylabel('loss')\n",
    "plt.xlabel('epoch')\n",
    "plt.show()"
   ]
  },
  {
   "cell_type": "code",
   "execution_count": 10,
   "metadata": {},
   "outputs": [],
   "source": [
    "# # 测试\n",
    "# model.evaluate(test_db)"
   ]
  },
  {
   "cell_type": "code",
   "execution_count": null,
   "metadata": {},
   "outputs": [],
   "source": []
  }
 ],
 "metadata": {
  "kernelspec": {
   "display_name": "Python 3",
   "language": "python",
   "name": "python3"
  },
  "language_info": {
   "codemirror_mode": {
    "name": "ipython",
    "version": 3
   },
   "file_extension": ".py",
   "mimetype": "text/x-python",
   "name": "python",
   "nbconvert_exporter": "python",
   "pygments_lexer": "ipython3",
   "version": "3.8.5"
  }
 },
 "nbformat": 4,
 "nbformat_minor": 5
}
