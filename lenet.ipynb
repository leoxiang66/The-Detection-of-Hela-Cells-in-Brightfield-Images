{
 "cells": [
  {
   "cell_type": "code",
   "execution_count": 1,
   "metadata": {},
   "outputs": [],
   "source": [
    "import tensorflow as tf\n",
    "import matplotlib.pyplot as plt\n",
    "from tensorflow import keras\n",
    "from skimage.io import ImageCollection\n",
    "from pprint import pprint\n",
    "from skimage import io,transform\n",
    "import numpy as np"
   ]
  },
  {
   "cell_type": "code",
   "execution_count": 2,
   "metadata": {},
   "outputs": [],
   "source": [
    "def readAllImages(path):\n",
    "    img_arr = ImageCollection(path + '/*.tif')\n",
    "    return img_arr,len(img_arr)"
   ]
  },
  {
   "cell_type": "code",
   "execution_count": 3,
   "metadata": {},
   "outputs": [
    {
     "name": "stdout",
     "output_type": "stream",
     "text": [
      "(2714, 20, 20) (866, 20, 20)\n",
      "(2714,) (866,)\n"
     ]
    }
   ],
   "source": [
    "# 读取数据\n",
    "blank = readAllImages('''dataset/Blank_aug''')\n",
    "border = readAllImages('''dataset/Border_aug''')\n",
    "center = readAllImages('''dataset/Center_aug''')\n",
    "\n",
    "arr1,len1 = blank[0],blank[1]   # 2\n",
    "arr2,len2 = border[0],border[1]  # 0\n",
    "arr3,len3 = center[0],center[1] # 1\n",
    "\n",
    "\n",
    "\n",
    "\n",
    "\n",
    "\n",
    "train_images = []\n",
    "test_images = []\n",
    "train_y = []\n",
    "test_y = []\n",
    "\n",
    "for i in range(len1):\n",
    "    if i >= 1000:\n",
    "        test_images.append(arr1[i])\n",
    "        test_y.append(2)\n",
    "    else:\n",
    "        train_images.append(arr1[i])\n",
    "        train_y.append(2)\n",
    "\n",
    "for i in range(len2):\n",
    "    if i >= 1000:\n",
    "        test_images.append(arr2[i])\n",
    "        test_y.append(0)\n",
    "    else:\n",
    "        train_images.append(arr2[i])\n",
    "        train_y.append(0)\n",
    "        \n",
    "for i in range(len3):\n",
    "    if i >= 1000:\n",
    "        test_images.append(arr3[i])\n",
    "        test_y.append(1)\n",
    "    else:\n",
    "        train_images.append(arr3[i])\n",
    "        train_y.append(1)\n",
    "# for i in train_images:\n",
    "#     print(i.shape)\n",
    "\n",
    "y_train = np.array(train_y,dtype='int32')\n",
    "y_test = np.array(test_y,dtype='int32')\n",
    "x_train = np.stack(train_images,axis=0)\n",
    "x_test = np.stack(test_images,axis=0)\n",
    "\n",
    "print(x_train.shape, x_test.shape)\n",
    "print(y_train.shape, y_test.shape)\n",
    "\n"
   ]
  },
  {
   "cell_type": "code",
   "execution_count": null,
   "metadata": {},
   "outputs": [],
   "source": []
  },
  {
   "cell_type": "code",
   "execution_count": 4,
   "metadata": {},
   "outputs": [],
   "source": [
    "# 数据预处理函数\n",
    "def preprocess(x, y):\n",
    "    x = tf.cast(x, dtype=tf.float32) / 255.\n",
    "    x = tf.reshape(x, [-1, 32, 32, 1])\n",
    "    y = tf.one_hot(y, depth=3)  # one_hot 编码\n",
    "    return x, y"
   ]
  },
  {
   "cell_type": "code",
   "execution_count": 5,
   "metadata": {},
   "outputs": [
    {
     "data": {
      "text/plain": [
       "(TensorShape([2714, 32, 32]), TensorShape([866, 32, 32]))"
      ]
     },
     "execution_count": 5,
     "metadata": {},
     "output_type": "execute_result"
    }
   ],
   "source": [
    "# 样本图像周围补0（上下左右均补6个0），将20*20的图像转成32*32的图像\n",
    "paddings = tf.constant([[0,0],[6, 6], [6, 6]])\n",
    "x_train = tf.pad(x_train, paddings)\n",
    "x_test = tf.pad(x_test, paddings)\n",
    "\n",
    "x_train.shape, x_test.shape"
   ]
  },
  {
   "cell_type": "code",
   "execution_count": 6,
   "metadata": {},
   "outputs": [],
   "source": [
    "train_db = tf.data.Dataset.from_tensor_slices((x_train, y_train))\n",
    "train_db = train_db.shuffle(10000)  # 打乱训练集样本\n",
    "train_db = train_db.batch(128)\n",
    "train_db = train_db.map(preprocess)\n",
    "\n",
    "test_db = tf.data.Dataset.from_tensor_slices((x_test, y_test))\n",
    "test_db = test_db.shuffle(10000)  # 打乱测试集样本\n",
    "test_db = test_db.batch(128)\n",
    "test_db = test_db.map(preprocess)\n",
    "\n",
    "batch = 32\n"
   ]
  },
  {
   "cell_type": "code",
   "execution_count": 7,
   "metadata": {},
   "outputs": [
    {
     "name": "stdout",
     "output_type": "stream",
     "text": [
      "Model: \"sequential\"\n",
      "_________________________________________________________________\n",
      "Layer (type)                 Output Shape              Param #   \n",
      "=================================================================\n",
      "conv2d (Conv2D)              (32, 28, 28, 6)           156       \n",
      "_________________________________________________________________\n",
      "max_pooling2d (MaxPooling2D) (32, 14, 14, 6)           0         \n",
      "_________________________________________________________________\n",
      "re_lu (ReLU)                 (32, 14, 14, 6)           0         \n",
      "_________________________________________________________________\n",
      "conv2d_1 (Conv2D)            (32, 10, 10, 16)          2416      \n",
      "_________________________________________________________________\n",
      "max_pooling2d_1 (MaxPooling2 (32, 5, 5, 16)            0         \n",
      "_________________________________________________________________\n",
      "re_lu_1 (ReLU)               (32, 5, 5, 16)            0         \n",
      "_________________________________________________________________\n",
      "conv2d_2 (Conv2D)            (32, 1, 1, 120)           48120     \n",
      "_________________________________________________________________\n",
      "re_lu_2 (ReLU)               (32, 1, 1, 120)           0         \n",
      "_________________________________________________________________\n",
      "flatten (Flatten)            (32, 120)                 0         \n",
      "_________________________________________________________________\n",
      "dense (Dense)                (32, 84)                  10164     \n",
      "_________________________________________________________________\n",
      "dense_1 (Dense)              (32, 3)                   255       \n",
      "=================================================================\n",
      "Total params: 61,111\n",
      "Trainable params: 61,111\n",
      "Non-trainable params: 0\n",
      "_________________________________________________________________\n"
     ]
    }
   ],
   "source": [
    "# 创建模型\n",
    "model = keras.Sequential([\n",
    "    # 卷积层1\n",
    "    keras.layers.Conv2D(6, 5),  # 使用6个5*5的卷积核对单通道32*32的图片进行卷积，结果得到6个28*28的特征图\n",
    "    keras.layers.MaxPooling2D(pool_size=2, strides=2),  # 对28*28的特征图进行2*2最大池化，得到14*14的特征图\n",
    "    keras.layers.ReLU(),  # ReLU激活函数\n",
    "    # 卷积层2\n",
    "    keras.layers.Conv2D(16, 5),  # 使用16个5*5的卷积核对6通道14*14的图片进行卷积，结果得到16个10*10的特征图\n",
    "    keras.layers.MaxPooling2D(pool_size=2, strides=2),  # 对10*10的特征图进行2*2最大池化，得到5*5的特征图\n",
    "    keras.layers.ReLU(),  # ReLU激活函数\n",
    "    # 卷积层3\n",
    "    keras.layers.Conv2D(120, 5),  # 使用120个5*5的卷积核对16通道5*5的图片进行卷积，结果得到120个1*1的特征图\n",
    "    keras.layers.ReLU(),  # ReLU激活函数\n",
    "    # 将 (None, 1, 1, 120) 的下采样图片拉伸成 (None, 120) 的形状\n",
    "    keras.layers.Flatten(),\n",
    "    # 全连接层1\n",
    "    keras.layers.Dense(84, activation='relu'),  # 120*84\n",
    "    # 全连接层2\n",
    "    keras.layers.Dense(3, activation='softmax')  # 84*10\n",
    "])\n",
    "model.build(input_shape=(batch, 32, 32, 1))\n",
    "model.summary()\n"
   ]
  },
  {
   "cell_type": "code",
   "execution_count": 8,
   "metadata": {},
   "outputs": [
    {
     "name": "stdout",
     "output_type": "stream",
     "text": [
      "Epoch 1/15\n",
      "22/22 [==============================] - 1s 22ms/step - loss: 0.9342 - categorical_accuracy: 0.5279\n",
      "Epoch 2/15\n",
      "22/22 [==============================] - 1s 24ms/step - loss: 0.1902 - categorical_accuracy: 0.9377\n",
      "Epoch 3/15\n",
      "22/22 [==============================] - 0s 22ms/step - loss: 0.0854 - categorical_accuracy: 0.9702\n",
      "Epoch 4/15\n",
      "22/22 [==============================] - 1s 23ms/step - loss: 0.0478 - categorical_accuracy: 0.9877\n",
      "Epoch 5/15\n",
      "22/22 [==============================] - 1s 24ms/step - loss: 0.0455 - categorical_accuracy: 0.9809\n",
      "Epoch 6/15\n",
      "22/22 [==============================] - 1s 28ms/step - loss: 0.0252 - categorical_accuracy: 0.9960\n",
      "Epoch 7/15\n",
      "22/22 [==============================] - 1s 26ms/step - loss: 0.0253 - categorical_accuracy: 0.9925\n",
      "Epoch 8/15\n",
      "22/22 [==============================] - 1s 26ms/step - loss: 0.0265 - categorical_accuracy: 0.9912\n",
      "Epoch 9/15\n",
      "22/22 [==============================] - 1s 23ms/step - loss: 0.0123 - categorical_accuracy: 0.9978\n",
      "Epoch 10/15\n",
      "22/22 [==============================] - 1s 25ms/step - loss: 0.0149 - categorical_accuracy: 0.9962\n",
      "Epoch 11/15\n",
      "22/22 [==============================] - 1s 25ms/step - loss: 0.0093 - categorical_accuracy: 0.9972\n",
      "Epoch 12/15\n",
      "22/22 [==============================] - 1s 30ms/step - loss: 0.0097 - categorical_accuracy: 0.9971\n",
      "Epoch 13/15\n",
      "22/22 [==============================] - 1s 28ms/step - loss: 0.0043 - categorical_accuracy: 0.9993\n",
      "Epoch 14/15\n",
      "22/22 [==============================] - 1s 26ms/step - loss: 0.0037 - categorical_accuracy: 0.9995\n",
      "Epoch 15/15\n",
      "22/22 [==============================] - 1s 26ms/step - loss: 0.0050 - categorical_accuracy: 0.9992\n"
     ]
    }
   ],
   "source": [
    "model.compile(optimizer=keras.optimizers.Adam(), loss=keras.losses.CategoricalCrossentropy(), metrics=['categorical_accuracy'])\n",
    "# 训练\n",
    "history = model.fit(train_db, epochs=15)"
   ]
  },
  {
   "cell_type": "code",
   "execution_count": 9,
   "metadata": {},
   "outputs": [
    {
     "data": {
      "image/png": "[encoded data removed]",
      "text/plain": [
       "<Figure size 432x288 with 1 Axes>"
      ]
     },
     "metadata": {
      "needs_background": "light"
     },
     "output_type": "display_data"
    }
   ],
   "source": [
    "# 损失下降曲线\n",
    "plt.plot(history.history['loss'])\n",
    "plt.title('model loss')\n",
    "plt.ylabel('loss')\n",
    "plt.xlabel('epoch')\n",
    "plt.show()"
   ]
  },
  {
   "cell_type": "code",
   "execution_count": 10,
   "metadata": {},
   "outputs": [
    {
     "name": "stdout",
     "output_type": "stream",
     "text": [
      "7/7 [==============================] - 0s 11ms/step - loss: 0.0352 - categorical_accuracy: 0.9873\n"
     ]
    },
    {
     "data": {
      "text/plain": [
       "[0.035151854157447815, 0.9872978925704956]"
      ]
     },
     "execution_count": 10,
     "metadata": {},
     "output_type": "execute_result"
    }
   ],
   "source": [
    "# 测试\n",
    "model.evaluate(test_db)"
   ]
  },
  {
   "cell_type": "code",
   "execution_count": 11,
   "metadata": {},
   "outputs": [],
   "source": [
    "# 保存模型\n",
    "model.save('lenet-model.h5',overwrite = True, include_optimizer = True)"
   ]
  }
 ],
 "metadata": {
  "kernelspec": {
   "display_name": "Python 3",
   "language": "python",
   "name": "python3"
  },
  "language_info": {
   "codemirror_mode": {
    "name": "ipython",
    "version": 3
   },
   "file_extension": ".py",
   "mimetype": "text/x-python",
   "name": "python",
   "nbconvert_exporter": "python",
   "pygments_lexer": "ipython3",
   "version": "3.8.5"
  }
 },
 "nbformat": 4,
 "nbformat_minor": 5
}
