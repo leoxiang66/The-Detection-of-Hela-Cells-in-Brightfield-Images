{
 "cells": [
  {
   "cell_type": "markdown",
   "metadata": {},
   "source": [
    "## Process the PAP-SMEAR image data "
   ]
  },
  {
   "cell_type": "code",
   "execution_count": 37,
   "metadata": {},
   "outputs": [],
   "source": [
    "import math\n",
    "import numpy as np\n",
    "import matplotlib.pyplot as plt\n",
    "\n",
    "import skimage\n",
    "from skimage import io, measure, exposure\n",
    "from skimage.color import rgba2rgb, rgb2gray\n",
    "from skimage.feature import greycomatrix, greycoprops\n",
    "\n",
    "\n",
    "import os\n",
    "import csv\n",
    "\n",
    "%matplotlib inline"
   ]
  },
  {
   "cell_type": "code",
   "execution_count": 38,
   "metadata": {},
   "outputs": [
    {
     "name": "stdout",
     "output_type": "stream",
     "text": [
      "0.17.2\n"
     ]
    }
   ],
   "source": [
    "print(skimage.__version__)"
   ]
  },
  {
   "cell_type": "markdown",
   "metadata": {},
   "source": [
    "## Function to extract features from an image "
   ]
  },
  {
   "cell_type": "markdown",
   "metadata": {},
   "source": [
    "Papsmear data taken from [PAP-SMEAR Databses](http://mde-lab.aegean.gr/downloads) Part II"
   ]
  },
  {
   "cell_type": "code",
   "execution_count": 39,
   "metadata": {},
   "outputs": [],
   "source": [
    "def extract_features(image_input):\n",
    "    gray =  rgb2gray(image_input)\n",
    "    v1 = image_input.flatten()\n",
    "    \n",
    "    \n",
    "    v = np.concatenate([v1])\n",
    "    \n",
    "    return v"
   ]
  },
  {
   "cell_type": "markdown",
   "metadata": {},
   "source": [
    "## Main function for processing class: normal superficiel"
   ]
  },
  {
   "cell_type": "code",
   "execution_count": 40,
   "metadata": {},
   "outputs": [
    {
     "name": "stderr",
     "output_type": "stream",
     "text": [
      "IOPub data rate exceeded.\n",
      "The notebook server will temporarily stop sending output\n",
      "to the client in order to avoid crashing it.\n",
      "To change this limit, set the config variable\n",
      "`--NotebookApp.iopub_data_rate_limit`.\n",
      "\n",
      "Current values:\n",
      "NotebookApp.iopub_data_rate_limit=1000000.0 (bytes/sec)\n",
      "NotebookApp.rate_limit_window=3.0 (secs)\n",
      "\n",
      "<ipython-input-39-9cfa8f755fb1>:2: FutureWarning: Non RGB image conversion is now deprecated. For RGBA images, please use rgb2gray(rgba2rgb(rgb)) instead. In version 0.19, a ValueError will be raised if input image last dimension length is not 3.\n",
      "  gray =  rgb2gray(image_input)\n"
     ]
    }
   ],
   "source": [
    "directory = \"GLMC/Border/\"\n",
    "\n",
    "features = []\n",
    "\n",
    "for filename in os.listdir(directory):\n",
    "    if filename.endswith(\".png\"):\n",
    "        image = io.imread(directory + filename)\n",
    "        v = extract_features(image)\n",
    "        v_list = [filename, 0] + v.tolist()\n",
    "        features.append(v_list)\n",
    "        \n",
    "print(features)"
   ]
  },
  {
   "cell_type": "markdown",
   "metadata": {},
   "source": [
    "### write the data to a csv file "
   ]
  },
  {
   "cell_type": "code",
   "execution_count": 41,
   "metadata": {},
   "outputs": [],
   "source": [
    "with open('border.csv', 'w', newline='') as csvfile:\n",
    "     fieldnames = ['filename', 'class', 'features']\n",
    "     wr = csv.writer(csvfile)\n",
    "     wr.writerows(features)"
   ]
  },
  {
   "cell_type": "markdown",
   "metadata": {},
   "source": [
    "## Main function for processing class: severe displastic"
   ]
  },
  {
   "cell_type": "code",
   "execution_count": 33,
   "metadata": {},
   "outputs": [
    {
     "name": "stderr",
     "output_type": "stream",
     "text": [
      "<ipython-input-30-71d7451cac2e>:2: FutureWarning: Non RGB image conversion is now deprecated. For RGBA images, please use rgb2gray(rgba2rgb(rgb)) instead. In version 0.19, a ValueError will be raised if input image last dimension length is not 3.\n",
      "  gray =  rgb2gray(image_input)\n"
     ]
    }
   ],
   "source": [
    "directory = \"GLMC/Center/\"\n",
    "\n",
    "features = []\n",
    "\n",
    "for filename in os.listdir(directory):\n",
    "    if filename.endswith(\".png\"):\n",
    "        image = io.imread(directory + filename)\n",
    "        v = extract_features(image)\n",
    "        v_list = [filename, 1] + v.tolist()\n",
    "        features.append(v_list)"
   ]
  },
  {
   "cell_type": "markdown",
   "metadata": {},
   "source": [
    "### write the data to a csv file "
   ]
  },
  {
   "cell_type": "code",
   "execution_count": 34,
   "metadata": {},
   "outputs": [],
   "source": [
    "with open('Center.csv', 'w', newline='') as csvfile:\n",
    "     fieldnames = ['filename', 'class', 'features']\n",
    "     wr = csv.writer(csvfile)\n",
    "     wr.writerows(features)"
   ]
  },
  {
   "cell_type": "code",
   "execution_count": 35,
   "metadata": {},
   "outputs": [
    {
     "name": "stderr",
     "output_type": "stream",
     "text": [
      "<ipython-input-30-71d7451cac2e>:2: FutureWarning: Non RGB image conversion is now deprecated. For RGBA images, please use rgb2gray(rgba2rgb(rgb)) instead. In version 0.19, a ValueError will be raised if input image last dimension length is not 3.\n",
      "  gray =  rgb2gray(image_input)\n"
     ]
    }
   ],
   "source": [
    "directory = \"GLMC/Blank/\"\n",
    "\n",
    "features = []\n",
    "\n",
    "for filename in os.listdir(directory):\n",
    "    if filename.endswith(\".png\"):\n",
    "        image = io.imread(directory + filename)\n",
    "        v = extract_features(image)\n",
    "        v_list = [filename, 2] + v.tolist()\n",
    "        features.append(v_list)"
   ]
  },
  {
   "cell_type": "code",
   "execution_count": 36,
   "metadata": {},
   "outputs": [],
   "source": [
    "with open('Blank.csv', 'w', newline='') as csvfile:\n",
    "     fieldnames = ['filename', 'class', 'features']\n",
    "     wr = csv.writer(csvfile)\n",
    "     wr.writerows(features)"
   ]
  },
  {
   "cell_type": "code",
   "execution_count": null,
   "metadata": {},
   "outputs": [],
   "source": []
  }
 ],
 "metadata": {
  "kernelspec": {
   "display_name": "Python 3",
   "language": "python",
   "name": "python3"
  },
  "language_info": {
   "codemirror_mode": {
    "name": "ipython",
    "version": 3
   },
   "file_extension": ".py",
   "mimetype": "text/x-python",
   "name": "python",
   "nbconvert_exporter": "python",
   "pygments_lexer": "ipython3",
   "version": "3.8.5"
  }
 },
 "nbformat": 4,
 "nbformat_minor": 2
}
