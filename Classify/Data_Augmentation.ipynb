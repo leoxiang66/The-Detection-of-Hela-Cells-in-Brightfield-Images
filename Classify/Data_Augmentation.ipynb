{
 "cells": [
  {
   "cell_type": "code",
   "execution_count": 17,
   "metadata": {
    "ExecuteTime": {
     "end_time": "2021-03-27T06:31:49.324907Z",
     "start_time": "2021-03-27T06:31:49.315956Z"
    }
   },
   "outputs": [],
   "source": [
    "from keras.preprocessing.image import ImageDataGenerator, array_to_img, img_to_array, load_img"
   ]
  },
  {
   "cell_type": "code",
   "execution_count": 18,
   "metadata": {
    "ExecuteTime": {
     "end_time": "2021-03-27T06:31:49.702529Z",
     "start_time": "2021-03-27T06:31:49.693555Z"
    }
   },
   "outputs": [],
   "source": [
    "def img_data_augmentation(count,prefix,num_img,suffix):\n",
    "    datagen = ImageDataGenerator(\n",
    "        rotation_range=0.2,\n",
    "        width_shift_range=0.2,\n",
    "        height_shift_range=0.2,\n",
    "        shear_range=0.2,\n",
    "        zoom_range=0.2,\n",
    "        horizontal_flip=True,\n",
    "        fill_mode='nearest'\n",
    "    )\n",
    "    \n",
    "    for i in range(num_img):\n",
    "        img = load_img(\n",
    "            f'./Blank/{prefix}{i+1}.{suffix}')\n",
    "        x = img_to_array(img)  # this is a Numpy array \n",
    "        x = x.reshape((1,) + x.shape)  \n",
    "\n",
    "        # the .flow() command below generates batches of randomly transformed images\n",
    "        # and saves the results to the `da/` directory\n",
    "\n",
    "        i = 1\n",
    "        for batch in datagen.flow(x, batch_size=1, save_to_dir='./Blank_aug/', save_prefix='Blank_aug ',\n",
    "                                  save_format='png'):\n",
    "            i += 1\n",
    "            if i > count:\n",
    "                break  # otherwise the generator would loop indefinitely"
   ]
  },
  {
   "cell_type": "code",
   "execution_count": 21,
   "metadata": {
    "ExecuteTime": {
     "end_time": "2021-03-27T06:32:29.223108Z",
     "start_time": "2021-03-27T06:32:26.857639Z"
    }
   },
   "outputs": [],
   "source": [
    " img_data_augmentation(16,'Blank ',32,'png')"
   ]
  },
  {
   "cell_type": "code",
   "execution_count": null,
   "metadata": {},
   "outputs": [],
   "source": []
  }
 ],
 "metadata": {
  "kernelspec": {
   "display_name": "Python 3",
   "language": "python",
   "name": "python3"
  },
  "language_info": {
   "codemirror_mode": {
    "name": "ipython",
    "version": 3
   },
   "file_extension": ".py",
   "mimetype": "text/x-python",
   "name": "python",
   "nbconvert_exporter": "python",
   "pygments_lexer": "ipython3",
   "version": "3.8.5"
  }
 },
 "nbformat": 4,
 "nbformat_minor": 4
}
