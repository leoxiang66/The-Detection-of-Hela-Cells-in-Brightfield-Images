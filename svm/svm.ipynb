{
 "cells": [
  {
   "cell_type": "code",
   "execution_count": 1,
   "metadata": {},
   "outputs": [],
   "source": [
    "import numpy as np\n",
    "from sklearn import svm\n",
    "from sklearn.model_selection  import train_test_split\n",
    "import _pickle as pickle\n",
    "import matplotlib.pyplot as plt\n",
    "from skimage.io import ImageCollection\n",
    "from pprint import pprint\n",
    "from skimage import io,transform"
   ]
  },
  {
   "cell_type": "code",
   "execution_count": 7,
   "metadata": {},
   "outputs": [],
   "source": [
    "def readAllImages(path):\n",
    "    img_arr = ImageCollection(path + '/*.tif')\n",
    "    return img_arr"
   ]
  },
  {
   "cell_type": "code",
   "execution_count": 8,
   "metadata": {},
   "outputs": [
    {
     "data": {
      "text/plain": [
       "((3580, 400), (3580,))"
      ]
     },
     "execution_count": 8,
     "metadata": {},
     "output_type": "execute_result"
    }
   ],
   "source": [
    "# 读取数据\n",
    "arr1 = readAllImages('''../dataset/Blank_aug''')\n",
    "arr2 = readAllImages('''../dataset/Border_aug''')\n",
    "arr3 = readAllImages('''../dataset/Center_aug''')\n",
    "\n",
    "x_data = []\n",
    "y_data = []\n",
    "\n",
    "for i in arr1:\n",
    "    x_data.append(i.flatten())\n",
    "    y_data.append(2)\n",
    "    \n",
    "for i in arr2:\n",
    "    x_data.append(i.flatten())\n",
    "    y_data.append(0)\n",
    "\n",
    "for i in arr3:\n",
    "    x_data.append(i.flatten())\n",
    "    y_data.append(1)\n",
    "\n",
    "x_data = np.array(x_data)\n",
    "y_data = np.array(y_data)\n",
    "\n",
    "x_data.shape, y_data.shape"
   ]
  },
  {
   "cell_type": "code",
   "execution_count": 11,
   "metadata": {},
   "outputs": [
    {
     "name": "stdout",
     "output_type": "stream",
     "text": [
      "(2864, 400) (2864,)\n",
      "(716, 400) (716,)\n"
     ]
    }
   ],
   "source": [
    "x_train,x_test,y_train,y_test= train_test_split(x_data,y_data,test_size=0.2, random_state=40)\n",
    "\n",
    "print(x_train.shape,y_train.shape)\n",
    "print(x_test.shape, y_test.shape)"
   ]
  },
  {
   "cell_type": "code",
   "execution_count": 12,
   "metadata": {},
   "outputs": [
    {
     "name": "stdout",
     "output_type": "stream",
     "text": [
      "准确率: 0.9511173184357542\n"
     ]
    },
    {
     "name": "stderr",
     "output_type": "stream",
     "text": [
      "D:\\documents\\anaconda\\lib\\site-packages\\sklearn\\svm\\_base.py:976: ConvergenceWarning: Liblinear failed to converge, increase the number of iterations.\n",
      "  warnings.warn(\"Liblinear failed to converge, increase \"\n"
     ]
    }
   ],
   "source": [
    "model = svm.LinearSVC()\n",
    "model.fit(x_train, y_train)\n",
    "\n",
    "z = model.predict(x_test)\n",
    "print('Accuracy:',np.sum(z==y_test)/z.size)"
   ]
  },
  {
   "cell_type": "code",
   "execution_count": 13,
   "metadata": {},
   "outputs": [],
   "source": [
    "# 保存Model\n",
    "with open('./model.pkl','wb') as file:\n",
    "    pickle.dump(model,file)"
   ]
  },
  {
   "cell_type": "code",
   "execution_count": null,
   "metadata": {},
   "outputs": [],
   "source": []
  }
 ],
 "metadata": {
  "kernelspec": {
   "display_name": "Python 3",
   "language": "python",
   "name": "python3"
  },
  "language_info": {
   "codemirror_mode": {
    "name": "ipython",
    "version": 3
   },
   "file_extension": ".py",
   "mimetype": "text/x-python",
   "name": "python",
   "nbconvert_exporter": "python",
   "pygments_lexer": "ipython3",
   "version": "3.8.5"
  }
 },
 "nbformat": 4,
 "nbformat_minor": 4
}
