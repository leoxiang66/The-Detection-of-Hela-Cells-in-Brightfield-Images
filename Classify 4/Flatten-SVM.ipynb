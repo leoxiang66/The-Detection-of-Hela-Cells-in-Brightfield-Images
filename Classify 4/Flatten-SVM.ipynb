{
 "cells": [
  {
   "cell_type": "markdown",
   "metadata": {},
   "source": [
    "## Process the image data "
   ]
  },
  {
   "cell_type": "code",
   "execution_count": 21,
   "metadata": {},
   "outputs": [],
   "source": [
    "import math\n",
    "import numpy as np\n",
    "import matplotlib.pyplot as plt\n",
    "\n",
    "import skimage\n",
    "from skimage import io, measure, exposure\n",
    "from skimage.color import rgba2rgb, rgb2gray\n",
    "from skimage.feature import greycomatrix, greycoprops\n",
    "\n",
    "from sklearn.utils import shuffle\n",
    "from sklearn.svm import SVC\n",
    "from sklearn.decomposition import PCA\n",
    "from sklearn.metrics import classification_report\n",
    "from sklearn.svm import SVC\n",
    "import matplotlib.pyplot as plt\n",
    "from sklearn.model_selection import train_test_split\n",
    "from sklearn.metrics import classification_report,confusion_matrix\n",
    "from sklearn.model_selection import GridSearchCV\n",
    "from sklearn.model_selection import cross_val_score\n",
    "\n",
    "import os\n",
    "import csv\n",
    "import random\n",
    "\n",
    "%matplotlib inline"
   ]
  },
  {
   "cell_type": "code",
   "execution_count": 22,
   "metadata": {},
   "outputs": [
    {
     "name": "stdout",
     "output_type": "stream",
     "text": [
      "0.17.2\n"
     ]
    }
   ],
   "source": [
    "print(skimage.__version__)"
   ]
  },
  {
   "cell_type": "markdown",
   "metadata": {},
   "source": [
    "# Flatten iamges"
   ]
  },
  {
   "cell_type": "code",
   "execution_count": 23,
   "metadata": {},
   "outputs": [],
   "source": [
    "def extract_features(image_input):\n",
    "    gray =  rgb2gray(image_input)\n",
    "    v1 = image_input.flatten()\n",
    "    \n",
    "    v = np.concatenate([v1])\n",
    "    \n",
    "    return v"
   ]
  },
  {
   "cell_type": "code",
   "execution_count": 24,
   "metadata": {},
   "outputs": [],
   "source": [
    "directory = \"Border_aug/\"\n",
    "\n",
    "border_features = []\n",
    "\n",
    "for filename in os.listdir(directory):\n",
    "    if filename.endswith(\".png\"):\n",
    "        image = io.imread(directory + filename)\n",
    "        v = extract_features(image)\n",
    "        v_list = [filename, 0] + v.tolist()\n",
    "        border_features.append(v_list)"
   ]
  },
  {
   "cell_type": "code",
   "execution_count": 25,
   "metadata": {},
   "outputs": [],
   "source": [
    "directory = \"Center_aug/\"\n",
    "\n",
    "center_features = []\n",
    "\n",
    "for filename in os.listdir(directory):\n",
    "    if filename.endswith(\".png\"):\n",
    "        image = io.imread(directory + filename)\n",
    "        v = extract_features(image)\n",
    "        v_list = [filename, 1] + v.tolist()\n",
    "        center_features.append(v_list)"
   ]
  },
  {
   "cell_type": "code",
   "execution_count": 26,
   "metadata": {},
   "outputs": [],
   "source": [
    "directory = \"Blank_aug/\"\n",
    "blank_features = []\n",
    "\n",
    "for filename in os.listdir(directory):\n",
    "    if filename.endswith(\".png\"):\n",
    "        image = io.imread(directory + filename)\n",
    "        v = extract_features(image)\n",
    "        v_list = [filename, 2] + v.tolist()\n",
    "        blank_features.append(v_list)"
   ]
  },
  {
   "cell_type": "code",
   "execution_count": 27,
   "metadata": {},
   "outputs": [],
   "source": [
    "features = []\n",
    "labels = []\n",
    "\n",
    "for row in border_features:\n",
    "    filename = row[0]\n",
    "    class_label = row[1]\n",
    "    v = np.array(row[2:len(row)], dtype=np.float32)\n",
    "    f = [filename, class_label, v]\n",
    "    features.append(f)\n",
    "    labels.append(class_label)"
   ]
  },
  {
   "cell_type": "code",
   "execution_count": 28,
   "metadata": {},
   "outputs": [],
   "source": [
    "for row in center_features:\n",
    "    filename = row[0]\n",
    "    class_label = row[1]\n",
    "    v = np.array(row[2:len(row)], dtype=np.float32)\n",
    "    f = [filename, class_label, v]\n",
    "    features.append(f)\n",
    "    labels.append(class_label)"
   ]
  },
  {
   "cell_type": "code",
   "execution_count": 29,
   "metadata": {},
   "outputs": [],
   "source": [
    "for row in blank_features:\n",
    "    filename = row[0]\n",
    "    class_label = row[1]\n",
    "    v = np.array(row[2:len(row)], dtype=np.float32)\n",
    "    f = [filename, class_label, v]\n",
    "    features.append(f)\n",
    "    labels.append(class_label)"
   ]
  },
  {
   "cell_type": "markdown",
   "metadata": {},
   "source": [
    "### Step 2: Split the data into training and testing"
   ]
  },
  {
   "cell_type": "code",
   "execution_count": 30,
   "metadata": {},
   "outputs": [],
   "source": [
    "feature_length = len(features[0][2])\n",
    "features, labels = shuffle(features, labels, random_state=0)"
   ]
  },
  {
   "cell_type": "code",
   "execution_count": 31,
   "metadata": {},
   "outputs": [],
   "source": [
    "N_train = 60\n",
    "features_train = features[0:N_train]\n",
    "features_test = features[N_train:len(features)]\n",
    "\n",
    "labels_train = labels[0:N_train]\n",
    "labels_test = labels[N_train:len(features)]"
   ]
  },
  {
   "cell_type": "code",
   "execution_count": 32,
   "metadata": {},
   "outputs": [],
   "source": [
    "data_train = np.zeros((len(features_train), feature_length))\n",
    "data_test  = np.zeros((len(features_test), feature_length))"
   ]
  },
  {
   "cell_type": "code",
   "execution_count": 33,
   "metadata": {},
   "outputs": [],
   "source": [
    "for i in range(0, len(features_train)):\n",
    "    data_train[i, :] = features_train[i][2]\n",
    "    \n",
    "for i in range(0, len(features_test)):\n",
    "    data_test[i, :] = features_test[i][2]"
   ]
  },
  {
   "cell_type": "markdown",
   "metadata": {},
   "source": [
    "### Step 3: Set up the classifier and train it\n"
   ]
  },
  {
   "cell_type": "code",
   "execution_count": 63,
   "metadata": {},
   "outputs": [],
   "source": [
    "clf = SVC(random_state=0, max_iter=500,kernel = \"sigmoid\")\n",
    "#\"linear\",\"poly\",\"rbf\",\"sigmoid\""
   ]
  },
  {
   "cell_type": "code",
   "execution_count": 64,
   "metadata": {},
   "outputs": [
    {
     "data": {
      "text/plain": [
       "SVC(max_iter=500, random_state=0)"
      ]
     },
     "execution_count": 64,
     "metadata": {},
     "output_type": "execute_result"
    }
   ],
   "source": [
    "clf.fit(data_train, np.asarray(labels_train))"
   ]
  },
  {
   "cell_type": "code",
   "execution_count": 65,
   "metadata": {},
   "outputs": [],
   "source": [
    "prediction = clf.predict(data_test)"
   ]
  },
  {
   "cell_type": "code",
   "execution_count": 66,
   "metadata": {},
   "outputs": [
    {
     "name": "stdout",
     "output_type": "stream",
     "text": [
      "              precision    recall  f1-score   support\n",
      "\n",
      "           0       0.53      0.39      0.45       481\n",
      "           1       0.75      0.15      0.25       486\n",
      "           2       0.44      0.93      0.60       472\n",
      "\n",
      "    accuracy                           0.49      1439\n",
      "   macro avg       0.57      0.49      0.43      1439\n",
      "weighted avg       0.58      0.49      0.43      1439\n",
      "\n"
     ]
    }
   ],
   "source": [
    "print(classification_report(labels_test, prediction))"
   ]
  },
  {
   "cell_type": "code",
   "execution_count": 67,
   "metadata": {},
   "outputs": [
    {
     "name": "stdout",
     "output_type": "stream",
     "text": [
      "              precision    recall  f1-score   support\n",
      "\n",
      "           0       0.53      0.39      0.45       481\n",
      "           1       0.75      0.15      0.25       486\n",
      "           2       0.44      0.93      0.60       472\n",
      "\n",
      "    accuracy                           0.49      1439\n",
      "   macro avg       0.57      0.49      0.43      1439\n",
      "weighted avg       0.58      0.49      0.43      1439\n",
      "\n",
      "train_dataset： 0.9833333333333333\n",
      "test_dataset： 0.4857539958304378\n"
     ]
    },
    {
     "ename": "TypeError",
     "evalue": "'numpy.ndarray' object is not callable",
     "output_type": "error",
     "traceback": [
      "\u001b[0;31m---------------------------------------------------------------------------\u001b[0m",
      "\u001b[0;31mTypeError\u001b[0m                                 Traceback (most recent call last)",
      "\u001b[0;32m<ipython-input-67-474345d19903>\u001b[0m in \u001b[0;36m<module>\u001b[0;34m\u001b[0m\n\u001b[1;32m      2\u001b[0m \u001b[0mprint\u001b[0m\u001b[0;34m(\u001b[0m\u001b[0;34m\"train_dataset：\"\u001b[0m\u001b[0;34m,\u001b[0m \u001b[0mclf\u001b[0m\u001b[0;34m.\u001b[0m\u001b[0mscore\u001b[0m\u001b[0;34m(\u001b[0m\u001b[0mdata_train\u001b[0m\u001b[0;34m,\u001b[0m \u001b[0mlabels_train\u001b[0m\u001b[0;34m)\u001b[0m\u001b[0;34m)\u001b[0m\u001b[0;34m\u001b[0m\u001b[0;34m\u001b[0m\u001b[0m\n\u001b[1;32m      3\u001b[0m \u001b[0mprint\u001b[0m\u001b[0;34m(\u001b[0m\u001b[0;34m\"test_dataset：\"\u001b[0m\u001b[0;34m,\u001b[0m \u001b[0mclf\u001b[0m\u001b[0;34m.\u001b[0m\u001b[0mscore\u001b[0m\u001b[0;34m(\u001b[0m\u001b[0mdata_test\u001b[0m\u001b[0;34m,\u001b[0m \u001b[0mlabels_test\u001b[0m\u001b[0;34m)\u001b[0m\u001b[0;34m)\u001b[0m\u001b[0;34m\u001b[0m\u001b[0;34m\u001b[0m\u001b[0m\n\u001b[0;32m----> 4\u001b[0;31m \u001b[0mconfusion_matrix\u001b[0m \u001b[0;34m=\u001b[0m \u001b[0mconfusion_matrix\u001b[0m\u001b[0;34m(\u001b[0m\u001b[0mlabels_test\u001b[0m\u001b[0;34m,\u001b[0m\u001b[0mprediction\u001b[0m\u001b[0;34m)\u001b[0m\u001b[0;34m\u001b[0m\u001b[0;34m\u001b[0m\u001b[0m\n\u001b[0m\u001b[1;32m      5\u001b[0m \u001b[0mprint\u001b[0m\u001b[0;34m(\u001b[0m\u001b[0mconfusion_matrix\u001b[0m\u001b[0;34m)\u001b[0m\u001b[0;34m\u001b[0m\u001b[0;34m\u001b[0m\u001b[0m\n",
      "\u001b[0;31mTypeError\u001b[0m: 'numpy.ndarray' object is not callable"
     ]
    }
   ],
   "source": [
    "\n",
    "print(classification_report(labels_test,prediction))\n",
    "print(\"train_dataset：\", clf.score(data_train, labels_train))\n",
    "print(\"test_dataset：\", clf.score(data_test, labels_test))\n",
    "confusion_matrix = confusion_matrix(labels_test,prediction)\n",
    "print(confusion_matrix) "
   ]
  },
  {
   "cell_type": "code",
   "execution_count": 68,
   "metadata": {},
   "outputs": [
    {
     "data": {
      "image/png": "[encoded data removed]",
      "text/plain": [
       "<Figure size 432x288 with 2 Axes>"
      ]
     },
     "metadata": {
      "needs_background": "light"
     },
     "output_type": "display_data"
    }
   ],
   "source": [
    "classes = ['0','1','2']\n",
    "confusion_matrix = np.array(confusion_matrix,dtype=int)\n",
    "\n",
    "plt.imshow(confusion_matrix, interpolation='nearest', cmap=plt.cm.cool)  \n",
    "plt.title('confusion_matrix')\n",
    "plt.colorbar()\n",
    "tick_marks = np.arange(len(classes))\n",
    "plt.xticks(tick_marks, classes)\n",
    "plt.yticks(tick_marks, classes)\n",
    "\n",
    "thresh = confusion_matrix.max() / 2.\n",
    "\n",
    "iters = np.reshape([[[i,j] for j in range(3)] for i in range(3)],(confusion_matrix.size,2))\n",
    "for i, j in iters:\n",
    "    plt.text(j, i, format(confusion_matrix[i, j])) \n",
    "\n",
    "plt.ylim(len(confusion_matrix) - 0.5,-0.5)\n",
    "plt.ylabel('Real label')\n",
    "plt.xlabel('Prediction')\n",
    "plt.tight_layout()\n",
    "plt.show()"
   ]
  },
  {
   "cell_type": "code",
   "execution_count": null,
   "metadata": {},
   "outputs": [],
   "source": []
  },
  {
   "cell_type": "code",
   "execution_count": null,
   "metadata": {},
   "outputs": [],
   "source": []
  },
  {
   "cell_type": "code",
   "execution_count": 20,
   "metadata": {},
   "outputs": [
    {
     "ename": "SyntaxError",
     "evalue": "Missing parentheses in call to 'print'. Did you mean print('src:',padding_img.shape)? (<ipython-input-20-98543d576720>, line 20)",
     "output_type": "error",
     "traceback": [
      "\u001b[0;36m  File \u001b[0;32m\"<ipython-input-20-98543d576720>\"\u001b[0;36m, line \u001b[0;32m20\u001b[0m\n\u001b[0;31m    print 'src:',padding_img.shape\u001b[0m\n\u001b[0m          ^\u001b[0m\n\u001b[0;31mSyntaxError\u001b[0m\u001b[0;31m:\u001b[0m Missing parentheses in call to 'print'. Did you mean print('src:',padding_img.shape)?\n"
     ]
    }
   ],
   "source": [
    "def predict(args):\n",
    "    # load the trained convolutional neural network\n",
    "    print(\"[INFO] loading network...\")\n",
    "    model = load_model(args[\"model\"])\n",
    "    stride = args['stride']\n",
    "    for n in range(len(TEST_SET)):\n",
    "        path = TEST_SET[n]\n",
    "        #load the image\n",
    "        image = cv2.imread('./test/' + path)\n",
    "        # pre-process the image for classification\n",
    "        #image = image.astype(\"float\") / 255.0\n",
    "        #image = img_to_array(image)\n",
    "        h,w,_ = image.shape\n",
    "        padding_h = (h//stride + 1) * stride \n",
    "        padding_w = (w//stride + 1) * stride\n",
    "        padding_img = np.zeros((padding_h,padding_w,3),dtype=np.uint8)\n",
    "        padding_img[0:h,0:w,:] = image[:,:,:]\n",
    "        padding_img = padding_img.astype(\"float\") / 255.0\n",
    "        padding_img = img_to_array(padding_img)\n",
    "        print 'src:',padding_img.shape\n",
    "        mask_whole = np.zeros((padding_h,padding_w),dtype=np.uint8)\n",
    "        for i in range(padding_h//stride):\n",
    "            for j in range(padding_w//stride):\n",
    "                crop = padding_img[:3,i*stride:i*stride+image_size,j*stride:j*stride+image_size]\n",
    "                _,ch,cw = crop.shape\n",
    "                if ch != 256 or cw != 256:\n",
    "                    print 'invalid size!'\n",
    "                    continue\n",
    "                    \n",
    "                crop = np.expand_dims(crop, axis=0)\n",
    "                #print 'crop:',crop.shape\n",
    "                pred = model.predict_classes(crop,verbose=2)  \n",
    "                pred = labelencoder.inverse_transform(pred[0])  \n",
    "                #print (np.unique(pred))  \n",
    "                pred = pred.reshape((256,256)).astype(np.uint8)\n",
    "                #print 'pred:',pred.shape\n",
    "                mask_whole[i*stride:i*stride+image_size,j*stride:j*stride+image_size] = pred[:,:]\n",
    " \n",
    "        \n",
    "        cv2.imwrite('./predict/pre'+str(n+1)+'.png',mask_whole[0:h,0:w])"
   ]
  },
  {
   "cell_type": "code",
   "execution_count": null,
   "metadata": {},
   "outputs": [],
   "source": []
  }
 ],
 "metadata": {
  "kernelspec": {
   "display_name": "Python 3",
   "language": "python",
   "name": "python3"
  },
  "language_info": {
   "codemirror_mode": {
    "name": "ipython",
    "version": 3
   },
   "file_extension": ".py",
   "mimetype": "text/x-python",
   "name": "python",
   "nbconvert_exporter": "python",
   "pygments_lexer": "ipython3",
   "version": "3.8.5"
  }
 },
 "nbformat": 4,
 "nbformat_minor": 4
}
