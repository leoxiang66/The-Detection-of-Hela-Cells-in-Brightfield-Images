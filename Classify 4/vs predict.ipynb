{
 "cells": [
  {
   "cell_type": "code",
   "execution_count": 4,
   "metadata": {
    "ExecuteTime": {
     "end_time": "2021-03-29T09:25:46.934625Z",
     "start_time": "2021-03-29T09:25:46.912685Z"
    }
   },
   "outputs": [
    {
     "ename": "ModuleNotFoundError",
     "evalue": "No module named 'torch'",
     "output_type": "error",
     "traceback": [
      "\u001b[1;31m---------------------------------------------------------------------------\u001b[0m",
      "\u001b[1;31mModuleNotFoundError\u001b[0m                       Traceback (most recent call last)",
      "\u001b[1;32m<ipython-input-4-99e34ed25a95>\u001b[0m in \u001b[0;36m<module>\u001b[1;34m\u001b[0m\n\u001b[0;32m      1\u001b[0m \u001b[1;32mimport\u001b[0m \u001b[0mnumpy\u001b[0m \u001b[1;32mas\u001b[0m \u001b[0mnp\u001b[0m\u001b[1;33m\u001b[0m\u001b[1;33m\u001b[0m\u001b[0m\n\u001b[1;32m----> 2\u001b[1;33m \u001b[1;32mimport\u001b[0m \u001b[0mtorch\u001b[0m\u001b[1;33m\u001b[0m\u001b[1;33m\u001b[0m\u001b[0m\n\u001b[0m\u001b[0;32m      3\u001b[0m \u001b[1;32mfrom\u001b[0m \u001b[0mtorch\u001b[0m \u001b[1;32mimport\u001b[0m \u001b[0mnn\u001b[0m\u001b[1;33m\u001b[0m\u001b[1;33m\u001b[0m\u001b[0m\n\u001b[0;32m      4\u001b[0m \u001b[1;32mimport\u001b[0m \u001b[0mtorch\u001b[0m\u001b[1;33m.\u001b[0m\u001b[0mnn\u001b[0m\u001b[1;33m.\u001b[0m\u001b[0mfunctional\u001b[0m \u001b[1;32mas\u001b[0m \u001b[0mF\u001b[0m\u001b[1;33m\u001b[0m\u001b[1;33m\u001b[0m\u001b[0m\n\u001b[0;32m      5\u001b[0m \u001b[1;32mfrom\u001b[0m \u001b[0mtorch\u001b[0m\u001b[1;33m.\u001b[0m\u001b[0mautograd\u001b[0m \u001b[1;32mimport\u001b[0m \u001b[0mVariable\u001b[0m\u001b[1;33m\u001b[0m\u001b[1;33m\u001b[0m\u001b[0m\n",
      "\u001b[1;31mModuleNotFoundError\u001b[0m: No module named 'torch'"
     ]
    }
   ],
   "source": [
    "def predict(args):\n",
    "    # load the trained convolutional neural network\n",
    "    print(\"[INFO] loading network...\")\n",
    "    model = load_model(args[\"model\"])\n",
    "    stride = args['stride']\n",
    "    for n in range(len(TEST_SET)):\n",
    "        path = TEST_SET[n]\n",
    "        #load the image\n",
    "        image = cv2.imread('./test/' + path)\n",
    "        # pre-process the image for classification\n",
    "        #image = image.astype(\"float\") / 255.0\n",
    "        #image = img_to_array(image)\n",
    "        h,w,_ = image.shape\n",
    "        padding_h = (h//stride + 1) * stride \n",
    "        padding_w = (w//stride + 1) * stride\n",
    "        padding_img = np.zeros((padding_h,padding_w,3),dtype=np.uint8)\n",
    "        padding_img[0:h,0:w,:] = image[:,:,:]\n",
    "        padding_img = padding_img.astype(\"float\") / 255.0\n",
    "        padding_img = img_to_array(padding_img)\n",
    "        print 'src:',padding_img.shape\n",
    "        mask_whole = np.zeros((padding_h,padding_w),dtype=np.uint8)\n",
    "        for i in range(padding_h//stride):\n",
    "            for j in range(padding_w//stride):\n",
    "                crop = padding_img[:3,i*stride:i*stride+image_size,j*stride:j*stride+image_size]\n",
    "                _,ch,cw = crop.shape\n",
    "                if ch != 256 or cw != 256:\n",
    "                    print 'invalid size!'\n",
    "                    continue\n",
    "                    \n",
    "                crop = np.expand_dims(crop, axis=0)\n",
    "                #print 'crop:',crop.shape\n",
    "                pred = model.predict_classes(crop,verbose=2)  \n",
    "                pred = labelencoder.inverse_transform(pred[0])  \n",
    "                #print (np.unique(pred))  \n",
    "                pred = pred.reshape((256,256)).astype(np.uint8)\n",
    "                #print 'pred:',pred.shape\n",
    "                mask_whole[i*stride:i*stride+image_size,j*stride:j*stride+image_size] = pred[:,:]\n",
    " \n",
    "        \n",
    "        cv2.imwrite('./predict/pre'+str(n+1)+'.png',mask_whole[0:h,0:w])"
   ]
  },
  {
   "cell_type": "code",
   "execution_count": null,
   "metadata": {},
   "outputs": [],
   "source": []
  }
 ],
 "metadata": {
  "kernelspec": {
   "display_name": "Python 3",
   "language": "python",
   "name": "python3"
  },
  "language_info": {
   "codemirror_mode": {
    "name": "ipython",
    "version": 3
   },
   "file_extension": ".py",
   "mimetype": "text/x-python",
   "name": "python",
   "nbconvert_exporter": "python",
   "pygments_lexer": "ipython3",
   "version": "3.8.5"
  }
 },
 "nbformat": 4,
 "nbformat_minor": 4
}
