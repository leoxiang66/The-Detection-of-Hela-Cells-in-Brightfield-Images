{
 "cells": [
  {
   "cell_type": "markdown",
   "metadata": {},
   "source": [
    "## Process the PAP-SMEAR image data "
   ]
  },
  {
   "cell_type": "code",
   "execution_count": 1,
   "metadata": {},
   "outputs": [],
   "source": [
    "import math\n",
    "import numpy as np\n",
    "import matplotlib.pyplot as plt\n",
    "\n",
    "import skimage\n",
    "from skimage import io, measure, exposure\n",
    "from skimage.color import rgba2rgb, rgb2gray\n",
    "from skimage.feature import greycomatrix, greycoprops\n",
    "\n",
    "\n",
    "import os\n",
    "import csv\n",
    "\n",
    "%matplotlib inline"
   ]
  },
  {
   "cell_type": "code",
   "execution_count": 2,
   "metadata": {},
   "outputs": [
    {
     "name": "stdout",
     "output_type": "stream",
     "text": [
      "0.17.2\n"
     ]
    }
   ],
   "source": [
    "print(skimage.__version__)"
   ]
  },
  {
   "cell_type": "markdown",
   "metadata": {},
   "source": [
    "## Function to extract features from an image "
   ]
  },
  {
   "cell_type": "markdown",
   "metadata": {},
   "source": [
    "Papsmear data taken from [PAP-SMEAR Databses](http://mde-lab.aegean.gr/downloads) Part II"
   ]
  },
  {
   "cell_type": "code",
   "execution_count": 3,
   "metadata": {},
   "outputs": [],
   "source": [
    "def extract_features(image_input):\n",
    "    gray =  rgb2gray(image_input)\n",
    "    [counts, bins] = exposure.histogram(gray,nbins=16,source_range='dtype',normalize=True)\n",
    "    v1 = counts.flatten()\n",
    "    \n",
    "    gray_uint = (255*gray).astype(np.uint8)\n",
    "    glcm = greycomatrix(gray_uint, distances=[5], angles=[0], levels=256,\n",
    "                        symmetric=True, normed=True)\n",
    "    \n",
    "    \n",
    "    v2 = np.zeros(6)\n",
    "    v2[0] = greycoprops(glcm, 'contrast')[0, 0]\n",
    "    v2[1] = greycoprops(glcm, 'dissimilarity')[0, 0]\n",
    "    v2[2] = greycoprops(glcm, 'homogeneity')[0, 0]\n",
    "    v2[3] = greycoprops(glcm, 'ASM')[0, 0]\n",
    "    v2[4] = greycoprops(glcm, 'energy')[0, 0]\n",
    "    v2[5] = greycoprops(glcm, 'correlation')[0, 0]\n",
    "    \n",
    "    v = np.concatenate([v1,v2])\n",
    "    \n",
    "    return v"
   ]
  },
  {
   "cell_type": "markdown",
   "metadata": {},
   "source": [
    "## Main function for processing classes"
   ]
  },
  {
   "cell_type": "code",
   "execution_count": 4,
   "metadata": {},
   "outputs": [],
   "source": [
    "directory = \"Border_aug/\"\n",
    "\n",
    "features = []\n",
    "\n",
    "for filename in os.listdir(directory):\n",
    "    if filename.endswith(\".png\"):\n",
    "        image = io.imread(directory + filename)\n",
    "        v = extract_features(image)\n",
    "        v_list = [filename, 0] + v.tolist()\n",
    "        features.append(v_list)\n",
    "        "
   ]
  },
  {
   "cell_type": "markdown",
   "metadata": {},
   "source": [
    "### write the data to a csv file "
   ]
  },
  {
   "cell_type": "code",
   "execution_count": 5,
   "metadata": {},
   "outputs": [],
   "source": [
    "with open('Border.csv', 'w', newline='') as csvfile:\n",
    "     fieldnames = ['filename', 'class', 'features']\n",
    "     wr = csv.writer(csvfile)\n",
    "     wr.writerows(features)"
   ]
  },
  {
   "cell_type": "code",
   "execution_count": 6,
   "metadata": {},
   "outputs": [],
   "source": [
    "directory = \"Center_aug/\"\n",
    "\n",
    "features = []\n",
    "\n",
    "for filename in os.listdir(directory):\n",
    "    if filename.endswith(\".png\"):\n",
    "        image = io.imread(directory + filename)\n",
    "        v = extract_features(image)\n",
    "        v_list = [filename, 1] + v.tolist()\n",
    "        features.append(v_list)"
   ]
  },
  {
   "cell_type": "code",
   "execution_count": 7,
   "metadata": {},
   "outputs": [],
   "source": [
    "with open('Center.csv', 'w', newline='') as csvfile:\n",
    "     fieldnames = ['filename', 'class', 'features']\n",
    "     wr = csv.writer(csvfile)\n",
    "     wr.writerows(features)"
   ]
  },
  {
   "cell_type": "code",
   "execution_count": 8,
   "metadata": {},
   "outputs": [],
   "source": [
    "directory = \"Blank_aug/\"\n",
    "\n",
    "features = []\n",
    "\n",
    "for filename in os.listdir(directory):\n",
    "    if filename.endswith(\".png\"):\n",
    "        image = io.imread(directory + filename)\n",
    "        v = extract_features(image)\n",
    "        v_list = [filename, 2] + v.tolist()\n",
    "        features.append(v_list)"
   ]
  },
  {
   "cell_type": "code",
   "execution_count": 9,
   "metadata": {},
   "outputs": [],
   "source": [
    "with open('Blank.csv', 'w', newline='') as csvfile:\n",
    "     fieldnames = ['filename', 'class', 'features']\n",
    "     wr = csv.writer(csvfile)\n",
    "     wr.writerows(features)"
   ]
  },
  {
   "cell_type": "code",
   "execution_count": null,
   "metadata": {},
   "outputs": [],
   "source": []
  },
  {
   "cell_type": "code",
   "execution_count": null,
   "metadata": {},
   "outputs": [],
   "source": []
  },
  {
   "cell_type": "code",
   "execution_count": null,
   "metadata": {},
   "outputs": [],
   "source": []
  }
 ],
 "metadata": {
  "kernelspec": {
   "display_name": "Python 3",
   "language": "python",
   "name": "python3"
  },
  "language_info": {
   "codemirror_mode": {
    "name": "ipython",
    "version": 3
   },
   "file_extension": ".py",
   "mimetype": "text/x-python",
   "name": "python",
   "nbconvert_exporter": "python",
   "pygments_lexer": "ipython3",
   "version": "3.8.5"
  }
 },
 "nbformat": 4,
 "nbformat_minor": 4
}
